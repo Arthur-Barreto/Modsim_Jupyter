{
 "cells": [
  {
   "cell_type": "markdown",
   "metadata": {},
   "source": [
    "# Insper - Modelagem e Simulação do Mundo Físico\n",
    "\n",
    "## Projeto 3 - Newton's Candle"
   ]
  },
  {
   "cell_type": "markdown",
   "metadata": {},
   "source": [
    "### Inicialização\n",
    "Está é a etapa inicial do projeto, na qual estarão localizados todos as bibliotecas utilizadas no trabalho."
   ]
  },
  {
   "cell_type": "code",
   "execution_count": 10,
   "metadata": {},
   "outputs": [],
   "source": [
    "import numpy as np\n",
    "import matplotlib.pyplot as plt\n",
    "from math import *\n",
    "from scipy.integrate import odeint"
   ]
  },
  {
   "cell_type": "markdown",
   "metadata": {},
   "source": [
    "### Implementação do Modelo\n",
    "\n",
    "Nesta etapa se encontram-se 6 cláusulas de código, que formaram os parâmetros do Modelo, Modelo, Lista de tempo, condições iniciais, ODEINT e Plotagem do gráfico."
   ]
  },
  {
   "cell_type": "markdown",
   "metadata": {},
   "source": [
    "*Parâmetros do Modelo*\n"
   ]
  },
  {
   "cell_type": "code",
   "execution_count": 11,
   "metadata": {},
   "outputs": [],
   "source": [
    "g = 9.8 #Aceleração gravitacional (m/s2)\n",
    "l = 0.15 #Comprimento do fio (Metros)\n",
    "r = 5e-3 # raio da esfera (Metros)\n",
    "m = 10e-3 #Massa do Pêndulo (Kilos)\n",
    "𝜌 = 1.2 #Densidade do Ar (Kg/m3)\n",
    "Cd = 0.48 #Coeficiente de arrasto de uma esfera\n",
    "A = pi*r**2 #Área da seção transversal"
   ]
  },
  {
   "cell_type": "markdown",
   "metadata": {},
   "source": [
    "*Modelo*"
   ]
  },
  {
   "cell_type": "code",
   "execution_count": 28,
   "metadata": {},
   "outputs": [],
   "source": [
    "def modelo1 (X,t):\n",
    "    #Ramificando X\n",
    "    x = X[0]\n",
    "    y = X[1]\n",
    "    vx = X[2]\n",
    "    vy = X[3]\n",
    "    #Definindo Seno e Cosseno de Theta\n",
    "    sen𝜃 = x/sqrt(x**2+y**2)\n",
    "    cos𝜃 = -y/sqrt(x**2+y**2)\n",
    "    #Definindo Velocidade\n",
    "    v = sqrt(vx**2+vy**2)\n",
    "    #Checando se a velocidade não é nula (Se não Ocorrerá divisão por zero)\n",
    "    if v > 0:\n",
    "        #Sé a velocidade for maior que zero, será necessário calcular a Resistência do Ar.\n",
    "        D = 1/2*𝜌*Cd*A*v**2\n",
    "        cosα = vx/sqrt(vx**2+vy**2)\n",
    "        senα = vy/sqrt(vx**2+vy**2) \n",
    "    else:\n",
    "        #Se a velocidade for Nula, não há porque a resistência do Ar também não ser\n",
    "        D = 0\n",
    "        cosα = 0\n",
    "        senα = 0\n",
    "    #Definindo Força de tração\n",
    "    ####Não sei se como vamos utilizar está força, por serem diversos cabos, e diversas esferas\n",
    "    m = 6.4\n",
    "    g = 9.8\n",
    "    T = m*g*cos𝜃+m*v**2/r\n",
    "    dxdt = vx\n",
    "    dydt = vy\n",
    "    dvxdt = (-T*sen𝜃-D*cosα)/m\n",
    "    dvydt = (T*cos𝜃-D*senα-m*g)/m\n",
    "    return [dxdt,dydt,dvxdt,dvydt]"
   ]
  },
  {
   "cell_type": "markdown",
   "metadata": {},
   "source": [
    "*Lista de Tempo*"
   ]
  },
  {
   "cell_type": "code",
   "execution_count": 29,
   "metadata": {},
   "outputs": [],
   "source": [
    "#Condições\n",
    "inicio = 0\n",
    "fim = 12\n",
    "delta_t = 1e-3\n",
    "\n",
    "#Criando Lista de Tempo\n",
    "t_lista = np.arange(inicio,fim,delta_t)"
   ]
  },
  {
   "cell_type": "markdown",
   "metadata": {},
   "source": [
    "*Condições Iniciais*"
   ]
  },
  {
   "cell_type": "code",
   "execution_count": 30,
   "metadata": {},
   "outputs": [],
   "source": [
    "#Condições Iniciais\n",
    "X0 = -0.15\n",
    "Y0 = -0.20\n",
    "Vx0 = 0\n",
    "Vy0 = 0\n",
    "\n",
    "#Criando Conjunto de condições iniciais\n",
    "CI = [X0,Y0,Vx0,Vy0]"
   ]
  },
  {
   "cell_type": "markdown",
   "metadata": {},
   "source": [
    "*ODEINT*"
   ]
  },
  {
   "cell_type": "code",
   "execution_count": 32,
   "metadata": {},
   "outputs": [],
   "source": [
    "#ODEINT\n",
    "solucoes = odeint (modelo1, CI, t_lista)\n",
    "#Ramificando soluções\n",
    "x = solucoes[:,0]\n",
    "y = solucoes[:,1]\n",
    "vx = solucoes[:,2]\n",
    "vy = solucoes[:,3]"
   ]
  },
  {
   "cell_type": "markdown",
   "metadata": {},
   "source": [
    "*Plotando Gráficos*"
   ]
  },
  {
   "cell_type": "code",
   "execution_count": null,
   "metadata": {},
   "outputs": [],
   "source": []
  }
 ],
 "metadata": {
  "kernelspec": {
   "display_name": "Python 3",
   "language": "python",
   "name": "python3"
  },
  "language_info": {
   "codemirror_mode": {
    "name": "ipython",
    "version": 3
   },
   "file_extension": ".py",
   "mimetype": "text/x-python",
   "name": "python",
   "nbconvert_exporter": "python",
   "pygments_lexer": "ipython3",
   "version": "3.8.5"
  }
 },
 "nbformat": 4,
 "nbformat_minor": 4
}
