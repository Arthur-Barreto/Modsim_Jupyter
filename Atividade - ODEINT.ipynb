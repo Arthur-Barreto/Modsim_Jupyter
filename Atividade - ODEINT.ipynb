{
 "cells": [
  {
   "cell_type": "markdown",
   "metadata": {},
   "source": [
    "# Insper - Modelagem e Simulação do Mundo Físico\n",
    "\n",
    "## Atividade - ODEINT ##"
   ]
  },
  {
   "cell_type": "markdown",
   "metadata": {},
   "source": [
    "**0) Aula passada**\n",
    "\n",
    "Na aula passada, você utilizou o método de Euler para resolver um modelo dado pela seguinte equação diferencial e condição inicial: \n",
    "\n",
    "<center>$\\dfrac{dy(t)}{dt}=y(t), \\quad y(0) = 1$</center>\n",
    "\n",
    "Agora, vamos resolvê-lo utilizando a função ```odeint``` do Python.\n",
    "\n"
   ]
  },
  {
   "cell_type": "markdown",
   "metadata": {},
   "source": [
    "**1) Modelo**\n",
    "\n",
    "Implemente uma função denominada ```modelo``` que receba a variável $y(t)$ e o instante de tempo $t$ e retorne a taxa de variação $\\frac{dy(t)}{dt}$. Mesmo que sua função não utilize a variável $t$, ela é obrigatória para o correto funcionamento da função ```odeint```."
   ]
  },
  {
   "cell_type": "code",
   "execution_count": 1,
   "metadata": {},
   "outputs": [],
   "source": [
    "# Implemente aqui seu código do item 1\n",
    "def modelo(y,t):\n",
    "    dydt = y\n",
    "    return dydt\n"
   ]
  },
  {
   "cell_type": "markdown",
   "metadata": {},
   "source": [
    "**2) Resolução numérica**\n",
    "\n",
    "Agora que você implementou a função ```modelo```, calcule uma lista de valores $[y(0) \\quad y(t_1) \\quad \\cdots \\quad y(t_n)]$ utilizando a função ```odeint```. Para isso, você vai precisar de:\n",
    "\n",
    "- Uma condição inicial $y(0) = 1$\n",
    "- Uma lista de tempo $[0 \\quad t_1 \\quad \\cdots \\quad t_n]$ com $\\Delta t$ bem pequeno (use $\\Delta t=10^{-3}s$ em uma lista de tempo de $0$ a $10$s.)"
   ]
  },
  {
   "cell_type": "code",
   "execution_count": 2,
   "metadata": {},
   "outputs": [],
   "source": [
    "# Importa bibliotecas necessárias\n",
    "from scipy.integrate import odeint\n",
    "import numpy as np\n",
    "\n",
    "#parametro inicial\n",
    "y_0 = 1\n",
    "#defeni o incremento de delta t\n",
    "delta_t = 1e-3\n",
    "#cria o array lista tempo\n",
    "t_lista = np.arange(0,10,delta_t)\n",
    "\n",
    "#calcula a integral com odeint\n",
    "y_lista = odeint(modelo,y_0,t_lista)\n",
    "\n"
   ]
  },
  {
   "cell_type": "markdown",
   "metadata": {},
   "source": [
    "**3) Gráfico**\n",
    "\n",
    "Por fim, plote um gráfico de $y(t)$ por $t$."
   ]
  },
  {
   "cell_type": "code",
   "execution_count": 3,
   "metadata": {},
   "outputs": [
    {
     "data": {
      "image/png": "[encoded data removed]",
      "text/plain": [
       "<Figure size 432x288 with 1 Axes>"
      ]
     },
     "metadata": {
      "needs_background": "light"
     },
     "output_type": "display_data"
    }
   ],
   "source": [
    "# Importa biblioteca necessária\n",
    "import matplotlib.pyplot as plt\n",
    "\n",
    "plt.plot(t_lista,y_lista)\n",
    "\n",
    "plt.ylabel(\"y(t)\")\n",
    "plt.xlabel(\"t\")\n",
    "plt.title(\"Solução do modelo\")\n",
    "plt.grid(True)\n",
    "plt.show()\n"
   ]
  },
  {
   "cell_type": "code",
   "execution_count": null,
   "metadata": {},
   "outputs": [],
   "source": []
  }
 ],
 "metadata": {
  "kernelspec": {
   "display_name": "Python 3",
   "language": "python",
   "name": "python3"
  },
  "language_info": {
   "codemirror_mode": {
    "name": "ipython",
    "version": 3
   },
   "file_extension": ".py",
   "mimetype": "text/x-python",
   "name": "python",
   "nbconvert_exporter": "python",
   "pygments_lexer": "ipython3",
   "version": "3.8.5"
  }
 },
 "nbformat": 4,
 "nbformat_minor": 4
}
