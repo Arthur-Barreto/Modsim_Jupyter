{
 "cells": [
  {
   "cell_type": "markdown",
   "metadata": {},
   "source": [
    "# Insper - Modelagem e Simulação do Mundo Físico \n",
    "\n",
    "## Diagnóstico de programação 1 - 19/04/2021"
   ]
  },
  {
   "cell_type": "markdown",
   "metadata": {},
   "source": [
    "---\n",
    "\n",
    "Na **aula 7**, estudamos o modelo **SIR** (**S**usceptible, **I**nfected, **R**ecovered), muito usado para fazer previsões de curvas de infectados em processos epidêmicos. O modelo SIR também pode ser usado para o estudo da dinâmica de infecções de culturas de bactérias pluricelulares por vírus, sendo a modelagem contínua a mais usual. Vamos considerar um modelo **SI**, apenas com estoques de bactérias **S**usceptíveis e **I**nfectadas, cujas equações diferenciais são representadas abaixo.\n",
    "\n",
    "$$\\frac{dS(t)}{dt}= -\\alpha \\cdot S(t)\\cdot I(t)$$\n",
    "\n",
    "$$\\frac{dI(t)}{dt}= \\alpha \\cdot S(t)\\cdot I(t)-\\beta \\cdot I(t)$$\n",
    "\n",
    "Nesse sistema de equações diferenciais, $S(t)$ e $I(t)$ são, respectivamente, os **percentuais** de populações de bactérias susceptíveis e infectadas, sendo $t$ dado em horas."
   ]
  },
  {
   "cell_type": "markdown",
   "metadata": {},
   "source": [
    "---\n",
    "#### Item 0 (0,0 pontos)\n",
    "\n",
    "Antes de começar, execute o código abaixo para importar todas as bibliotecas necessárias."
   ]
  },
  {
   "cell_type": "code",
   "execution_count": 14,
   "metadata": {},
   "outputs": [],
   "source": [
    "import numpy as np\n",
    "import matplotlib.pyplot as plt\n",
    "from scipy.integrate import odeint"
   ]
  },
  {
   "cell_type": "markdown",
   "metadata": {},
   "source": [
    "---\n",
    "#### Item 1 (2,0 pontos)\n",
    "\n",
    "Implemente uma função (com o nome que quiser) que será utilizada posteriormente pela função `odeint` para resolver esse sistema de equações diferenciais. \n",
    "\n",
    "Essa função deve receber:\n",
    "- Uma **lista** com os valores de $S(t)$ e $I(t)$ em um determinado instante de tempo $t$\n",
    "- O **instante de tempo** $t$\n",
    "\n",
    "E deve retornar:\n",
    "- Uma **lista** com as taxas de variação (derivadas) $\\dfrac{dS(t)}{dt}$ e $\\dfrac{dI(t)}{dt}$ no instante de tempo $t$\n",
    "\n",
    "**Importante:**\n",
    "Os parâmetros $\\alpha$ e $\\beta$ do sistema acima, ambos dados na unidade $\\left[\\frac{1}{h}\\right]$, são definidos da seguinte forma:\n",
    "\n",
    "$$\\alpha=0,5 + \\frac{\\text{Dia do seu aniversário}}{100}\\space $$\n",
    "\n",
    "$$\\beta=0,08 - \\frac{\\text{Mês do seu aniversário}}{1000}\\space $$\n",
    "\n",
    "*Obs: com certeza, o dia do seu aniversário será um número de 1 a 31 e, o mês, um número de 1 a 12.*\n"
   ]
  },
  {
   "cell_type": "code",
   "execution_count": 15,
   "metadata": {},
   "outputs": [],
   "source": [
    "def modelo (x,t):\n",
    "    # primeira posição é relacionado as varoaveis \n",
    "    # caso tenha mais de uma tratar como vetor\n",
    "    S = x[0]\n",
    "    I = x[1]\n",
    "    #VALORES DAS CONTANTES\n",
    "    alpha = 0.5 + (29/100)\n",
    "    beta = 0.08 - (5/1000)\n",
    "    #após as variaveis dadas vamos contruir as derivadas\n",
    "    dSdt = -alpha*S*I\n",
    "    dIdt = alpha*S*I - beta*I\n",
    "    # retorna as derivadas como vetor\n",
    "    dxdt = [dSdt,dIdt]\n",
    "    # d1 e d2 são argumentos adicionais, estes devem ser informados em arg = (d1,d2) dentro de odeint\n",
    "    return dxdt\n"
   ]
  },
  {
   "cell_type": "markdown",
   "metadata": {},
   "source": [
    "---\n",
    "\n",
    "#### Item 2 (2,0 pontos)\n",
    "\n",
    "Utilizando a função que você implementou no **Item 1** (**não copie o código da função novamente** na célula a seguir), resolva o sistema de equações diferenciais utilizando a função `odeint`.\n",
    "\n",
    "Para isso:\n",
    "- Considere como condições iniciais $S(0) = 1$ e $I(0) = 10^{-4}$\n",
    "- Crie uma lista de tempo de $0$ a $65h$ com $\\Delta t=0,01h$\n",
    "\n",
    "Em seguida, plote em uma **mesma** figura o gráfico de $S(t)$ por $t$ e o gráfico de $I(t)$ por $t$. \n",
    "\n",
    "*(Obs: esse gráfico representa o percentual de bactérias susceptíveis e infectadas em um período de 65 horas.)*"
   ]
  },
  {
   "cell_type": "code",
   "execution_count": 16,
   "metadata": {},
   "outputs": [
    {
     "data": {
      "image/png": "[encoded data removed]",
      "text/plain": [
       "<Figure size 432x288 with 1 Axes>"
      ]
     },
     "metadata": {
      "needs_background": "light"
     },
     "output_type": "display_data"
    }
   ],
   "source": [
    "# Implemente seu código do Item 2 abaixo\n",
    "#condições iniciais\n",
    "S_0 = 1\n",
    "I_0 = 1e-4\n",
    "CI = [S_0,I_0]\n",
    "#parametros para criar o eixo x com o numpy\n",
    "delta_t = 1e-2\n",
    "inicio = 0\n",
    "fim = 65\n",
    "#vetor do eixo x\n",
    "t_lista = np.arange(inicio,fim,delta_t)\n",
    "#calculando a integral com odeint\n",
    "y_lista = odeint(modelo,CI,t_lista)\n",
    "# primeiro argumento é a função\n",
    "# o segundo as condições iniciais\n",
    "# o terceiro é o vetor temporal\n",
    "\n",
    "#vamos separar as listas com as integrais\n",
    "# coluna 0 é a primeira variável\n",
    "# a coluna 1 é a segunda\n",
    "S_lista = y_lista[:,0]\n",
    "I_lista = y_lista[:,1]\n",
    "\n",
    "plt.plot(t_lista,S_lista, label = \"Susceptíveis\")\n",
    "plt.plot(t_lista,I_lista, label = \"Infectadas\")\n",
    "\n",
    "plt.ylabel(\"S e I\")\n",
    "plt.xlabel(\"t\")\n",
    "plt.legend()\n",
    "plt.title(\"Solução do modelo\")\n",
    "plt.grid(True)\n",
    "plt.show()\n",
    "\n"
   ]
  },
  {
   "cell_type": "markdown",
   "metadata": {},
   "source": [
    "---\n",
    "\n",
    "#### Item 3 (1,0 ponto)\n",
    "\n",
    "Nas condições do **Item 2**, qual o percentual máximo de bactérias infectadas? Dê sua resposta na forma de um `print` com duas casas decimais de precisão."
   ]
  },
  {
   "cell_type": "code",
   "execution_count": 17,
   "metadata": {},
   "outputs": [
    {
     "name": "stdout",
     "output_type": "stream",
     "text": [
      "O percentual máximo de bactérias é: 0.68\n"
     ]
    }
   ],
   "source": [
    "# Implemente seu código do Item 3 abaixo\n",
    "i_max = max(I_lista)\n",
    "\n",
    "print(\"O percentual máximo de bactérias é: {:.2f}\".format(i_max))\n"
   ]
  },
  {
   "cell_type": "markdown",
   "metadata": {},
   "source": [
    "---\n",
    "\n",
    "#### Item 4 (1,0 ponto)\n",
    "\n",
    "Ainda nas condições do **Item 2**, quando (em que instante) o percentual máximo de bactérias infectadas é atingido? Dê sua resposta na forma de um `print`, em horas, com duas casas decimais de precisão."
   ]
  },
  {
   "cell_type": "code",
   "execution_count": 21,
   "metadata": {},
   "outputs": [
    {
     "name": "stdout",
     "output_type": "stream",
     "text": [
      "O instante de tempo do percentual máximo é: 16.30h\n"
     ]
    }
   ],
   "source": [
    "# Implemente seu código do Item 4 abaixo\n",
    "t_max = 0\n",
    "for i in range(0,len(I_lista)):\n",
    "    if (I_lista[i] == i_max):\n",
    "        t_max = t_lista[i]\n",
    "print(\"O instante de tempo do percentual máximo é: {:.2f}h\".format(t_max))\n"
   ]
  },
  {
   "cell_type": "markdown",
   "metadata": {},
   "source": [
    "---\n",
    "\n",
    "#### Item 5 (4,0 pontos)\n",
    "\n",
    "Utilizando a função que você implementou no **Item 1** e as condições iniciais e lista de tempo do **Item 2** (**não copie os códigos novamente** na célula a seguir), resolva o sistema de equações diferenciais novamente, porém agora utilizando o **método de Euler**. \n",
    "\n",
    "Em seguida, plote em uma **mesma** figura o gráfico de $S(t)$ por $t$ e o gráfico de $I(t)$ por $t$. \n",
    "\n",
    "*(Obs: caso você não consiga implementar o método de Euler utilizando a função do **Item 1**, você pode implementá-lo da forma que preferir. Porém, se você não usar a função do **Item 1**, este item valerá metade.)*"
   ]
  },
  {
   "cell_type": "code",
   "execution_count": 26,
   "metadata": {},
   "outputs": [
    {
     "data": {
      "image/png": "[encoded data removed]",
      "text/plain": [
       "<Figure size 432x288 with 1 Axes>"
      ]
     },
     "metadata": {
      "needs_background": "light"
     },
     "output_type": "display_data"
    }
   ],
   "source": [
    "# Implemente seu código do Item 5 abaixo\n",
    "# o vetor tempo já foi criado\n",
    "# basta criar um novo vetor para S e outro para I\n",
    "# e adicionar os valores iniciais aos respectivos vetores\n",
    "\n",
    "S_euler = [1]\n",
    "I_euler = [1e-4]\n",
    "dxdt = [0,0]\n",
    "\n",
    "for i in range(1,len(t_lista)):\n",
    "    x = [S_euler[i-1],I_euler[i-1]]\n",
    "    lista1 = modelo(x,t_lista[i-1])\n",
    "    S_euler.append(S_euler[i-1] + lista1[0]*delta_t)\n",
    "    I_euler.append(I_euler[i-1] + lista1[1]*delta_t)\n",
    "    \n",
    "# os vetores de S e I foram recriados\n",
    "\n",
    "plt.plot(t_lista,S_euler, label = \"Susceptíveis\")\n",
    "plt.plot(t_lista,I_euler, label = \"Infectadas\")\n",
    "\n",
    "plt.ylabel(\"S e I\")\n",
    "plt.xlabel(\"t\")\n",
    "plt.legend()\n",
    "plt.title(\"Solução do modelo usando o metodo de euler\")\n",
    "plt.grid(True)\n",
    "plt.show()\n",
    "\n",
    "\n"
   ]
  },
  {
   "cell_type": "code",
   "execution_count": null,
   "metadata": {},
   "outputs": [],
   "source": []
  }
 ],
 "metadata": {
  "kernelspec": {
   "display_name": "Python 3",
   "language": "python",
   "name": "python3"
  },
  "language_info": {
   "codemirror_mode": {
    "name": "ipython",
    "version": 3
   },
   "file_extension": ".py",
   "mimetype": "text/x-python",
   "name": "python",
   "nbconvert_exporter": "python",
   "pygments_lexer": "ipython3",
   "version": "3.8.5"
  }
 },
 "nbformat": 4,
 "nbformat_minor": 2
}
