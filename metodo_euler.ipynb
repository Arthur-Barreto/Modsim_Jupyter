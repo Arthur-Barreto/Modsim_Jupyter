{
 "cells": [
  {
   "cell_type": "markdown",
   "metadata": {},
   "source": [
    "# Insper - Modelagem e Simulação do Mundo Físico\n",
    "\n",
    "**Atividade de Implementação em Python**\n",
    "\n",
    "**Aplicando o método de Euler para solucionar equações diferenciais**\n",
    "\n",
    "Vamos agora continuar a atividade que você iniciou no papel. Você estava tentando encontrar pares de pontos que satisfizessem a seguinte equação diferencial:\n",
    "\n",
    "$\\frac{dY(t)}{dt}=1 \\cdot Y(t)\\space \\space \\space \\space \\space(1)$\n",
    "\n",
    "\n",
    "Sabemos que a expressão acima é a nossa famosa equação a diferenças escrita de outro modo. Sabemos também que, quanto menor for o $\\Delta t$, mais nos aproximaremos da solução da equação diferencial (1). Assim, como somos engenheiros, usaremos a equação a seguir como uma **aproximação** da equação diferencial (1):\n",
    "\n",
    "$\\frac{Y(t+\\Delta t)-Y(t)}{\\Delta t}=1\\cdot Y(t)$\n",
    "\n",
    "Vamos \"resolver\" essa equação diferencial no Python, aplicando o Método de Euler. Para iniciar, vamos retomar nossa boa e velha equação a diferenças com o $\\Delta t$ explicitado, mas agora com a variável $Y$.\n",
    "\n",
    "$Y(t+\\Delta t)=Y(t)+\\Delta Y$\n",
    "\n",
    "Como sabemos que nosso $\\Delta Y=1\\cdot Y \\cdot \\Delta t$, temos que:\n",
    "\n",
    "$Y(t+\\Delta t)=Y(t)+1\\cdot Y(t)\\cdot \\Delta t\\space \\space \\space \\space \\space(2)$\n",
    "\n",
    "Isso quer dizer que, se fizermos um loop e gerarmos uma série temporal a partir de $Y(0)=1$, obteremos uma solução que é muito parecida com $Y(t)=Y(0)\\cdot e^{t}$? Isso mesmo! Incrível não? Você vai fazer exatamente o que já fez com a população do seu país, como se o modelo fosse o de primeira ordem, tendo $\\alpha=1$. Fácil, não?\n",
    "\n",
    "**Item 1** \n",
    "\n",
    "Implemente na célula abaixo o código para montar a equação a diferenças (2), para isso, considere:\n",
    "\n",
    "$\\Delta t=1\\cdot 10^{-6}s$ (isso é um microsegundo!)\n",
    "\n",
    "$T_{max} = 3s$ (queremos analisar uma série que vai até 3s)\n",
    "\n",
    "$Y(0)=1$ (esse é o valor inicial de $Y$)\n",
    "\n",
    "Talvez você não saiba por onde começar. É normal! Lembre-se de que uma das primeiras coisas que você fez no Excel foi gerar uma coluna com a lista dos anos para os quais você calcularia a população ao longo do tempo, certo? Veja, abaixo, que fizemos isso pra você. Analise o código e siga lendo os nossos comentários."
   ]
  },
  {
   "cell_type": "code",
   "execution_count": 19,
   "metadata": {},
   "outputs": [
    {
     "data": {
      "image/png": "[encoded data removed]",
      "text/plain": [
       "<Figure size 432x288 with 1 Axes>"
      ]
     },
     "metadata": {
      "needs_background": "light"
     },
     "output_type": "display_data"
    }
   ],
   "source": [
    "#antes de começarmos, vamos importar dois módulos prontos que nos ajudarão a fazermos o que precisamos:\n",
    "#trata-se do numpy (módulo numérico do Python) e do matplolib.pyplot (o módulo gráfico do python)\n",
    "import numpy as np\n",
    "import matplotlib.pyplot as plt\n",
    "\n",
    "#vamos iniciar uma lista de tempo com delta_t e Tmax especificados: preste atenção\n",
    "delta_t=1e-6 #esse é o nosso delta_t do enunciado - um microsegundo.\n",
    "Tmax=3 #valor te tempo máximo especificado no enunciado\n",
    "#vamos agora usar a função arange do numpy. Veja como fazemos: passamos a ela o ponto inicial, o final e o intervalo\n",
    "tempo=np.arange(0,Tmax, delta_t)\n",
    "#pronto! temos uma lista com todos os valores de tempo, de 0 a 3s, com intervalos de 1 microsegundo\n",
    "#print(tempo)\n",
    "#AGORA É COM VOCÊ. ESCREVA SEU CÓDIGO PARA GERAR A LISTA Y(t) ASSIM COMO VOCÊ FEZ PARA GERAR POPULAÇÕES\n",
    "\n",
    "##############################################################\n",
    "# vamos criar o vetor para inserir os valores, temos Tmax/delta_t intervalos\n",
    "y = [0]*len(tempo)\n",
    "# vamos inserir o valorde y(0)\n",
    "y[0] = 1\n",
    "\n",
    "# agora vamos preencher o vetor\n",
    "i = 1\n",
    "while (i < (len(tempo))):\n",
    "    y[i]= y[i-1] + y[i-1]*delta_t\n",
    "    i = i + 1\n",
    "\n",
    "plt.plot(tempo, y, 'b')\n",
    "plt.xlabel(\"Tempo em us\")\n",
    "plt.ylabel(\"F(x)\")\n",
    "plt.grid(True)\n",
    "plt.show()\n",
    "\n",
    "#EM SEGUIDA PLOTE O GRÁFICO DE Y(t) POR t \n",
    "\n"
   ]
  },
  {
   "cell_type": "markdown",
   "metadata": {},
   "source": [
    "**Item 2** \n",
    "\n",
    "Observe o resultado do item 1. Você deve ter obtido uma função exponencial, como eram os gráficos de população de ordem 1, não?\n",
    "Crie agora uma outra lista de valores de $Y(t)$ que atendam à expressão matemática:\n",
    "\n",
    "$Y(t)=Y(0)\\cdot e^{t}$\n",
    "\n",
    "Plote um gráfico de todos os valores $Y(t)$ usando o mesmo valor inicial que você usou no item 1, assim como o mesmo tempo máximo (3s). Porém, aqui vamos usar um $\\Delta t=0,1 s$. \n",
    "\n",
    "Plote o gráfico da função com bolinhas vermelhas (para isso, basta digitar plt.plot(lista1, lista2, 'ro'), onde 'r' significa red e 'o', incrivelmente, significa bolinha!) juntamente com o gráfico que você fez no item 1. Para isso, basta executar dois comandos \"plot\" na sequência, antes de executar o código \"plt.show()\"."
   ]
  },
  {
   "cell_type": "code",
   "execution_count": 23,
   "metadata": {},
   "outputs": [
    {
     "data": {
      "image/png": "[encoded data removed]",
      "text/plain": [
       "<Figure size 432x288 with 1 Axes>"
      ]
     },
     "metadata": {
      "needs_background": "light"
     },
     "output_type": "display_data"
    }
   ],
   "source": [
    "#para obtermos o algarismo neperiano, vamos importar tudo (*) da biblioteca math do python - exp(t) significa e^t\n",
    "import math\n",
    "\n",
    "import numpy as np\n",
    "import matplotlib.pyplot as plt\n",
    "\n",
    "delta_t = 1e-1\n",
    "Tmax = 3\n",
    "tempo = np.arange(0,Tmax, delta_t)\n",
    "\n",
    "e = [0]*len(tempo)\n",
    "i = 0\n",
    "\n",
    "while (i < len(tempo) ):\n",
    "    e[i] = math.exp(tempo[i])\n",
    "    i = i + 1   \n",
    "    \n",
    "plt.plot(tempo, e, 'ro')\n",
    "plt.xlabel(\"Tempo em ms\")\n",
    "plt.ylabel(\"F(x)\")\n",
    "plt.grid(True)\n",
    "plt.show()\n"
   ]
  },
  {
   "cell_type": "markdown",
   "metadata": {},
   "source": [
    "O que descobriu? As funções são iguais? Uma foi obtida por meio da equação a diferenças (2), a outra por uma função matemática. Quem é a solução de quem?\n",
    "\n",
    "Talvez você esteja confuso, o que é normal. Tente explicar a alguém o que está pensando e ouvir também explicações sobre o que está acontecendo."
   ]
  }
 ],
 "metadata": {
  "kernelspec": {
   "display_name": "Python 3",
   "language": "python",
   "name": "python3"
  },
  "language_info": {
   "codemirror_mode": {
    "name": "ipython",
    "version": 3
   },
   "file_extension": ".py",
   "mimetype": "text/x-python",
   "name": "python",
   "nbconvert_exporter": "python",
   "pygments_lexer": "ipython3",
   "version": "3.8.5"
  }
 },
 "nbformat": 4,
 "nbformat_minor": 1
}
