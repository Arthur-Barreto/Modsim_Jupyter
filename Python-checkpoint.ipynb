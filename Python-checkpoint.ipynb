{
 "cells": [
  {
   "cell_type": "markdown",
   "metadata": {},
   "source": [
    "Qs = fluxo de calor através do ar, saindo do recipiente\n",
    "Qr = *      *   *    *      *  recipiente\n",
    "Qp = *     *     *    *     *   *, saindo das paredes externas"
   ]
  },
  {
   "cell_type": "markdown",
   "metadata": {},
   "source": [
    "agora os dados experimentais:\n",
    "\n",
    "finja que tem kkk"
   ]
  },
  {
   "cell_type": "markdown",
   "metadata": {},
   "source": [
    "plotando os dados experimentais\n",
    "tb finge que tem rsrs "
   ]
  },
  {
   "cell_type": "markdown",
   "metadata": {},
   "source": [
    "agora a primeira iteração\n",
    "definindo as constantes"
   ]
  },
  {
   "cell_type": "code",
   "execution_count": 13,
   "metadata": {},
   "outputs": [],
   "source": [
    "#importando as bibliotecas\n",
    "import math\n",
    "import matplotlib.pyplot as plt\n",
    "import numpy as np\n",
    "from scipy.integrate import odeint"
   ]
  },
  {
   "cell_type": "code",
   "execution_count": 23,
   "metadata": {},
   "outputs": [],
   "source": [
    "# raio interno\n",
    "rin = 3.5e-2\n",
    "# raio externo\n",
    "rex = 4e-2\n",
    "#altura\n",
    "h = 9.5e-2\n",
    "\n",
    "#densidade da água kg/m3\n",
    "dc=1000\n",
    "#densidade do recipiente (ceramica) (2000 --> 30000) kg/m³\n",
    "drec= 2500\n",
    "#volume de café - vamos deixar 1cm abaixo da altura do recipiente\n",
    "# recipiente tem 2*pi*3,5*9,5 (raio de 3,5 cm e altura de 9,5 cm) e esperrusa de 5 mm\n",
    "vc=2*(math.pi)*rin*(8.0e-2)\n",
    "#volume do recipiente, raio externo de 4 cm\n",
    "vr=math.pi*h*(rex**2 - rin**2) + (math.pi*(rex**2)*(5e-3))\n",
    "#massa de café\n",
    "mc=dc*vc\n",
    "#massa do recipiente\n",
    "mr=drec*vr\n",
    "#calor específico da água (J/(kg*K))\n",
    "cc= 4186\n",
    "#calor específico da ceramica (J/(kg*K))\n",
    "cr= 878\n",
    "#temperatura ambiente, em kelvin\n",
    "Ta=26+273.15\n",
    "#espessura do recipiente: 5mm --> 0.005m: vamos dividi-lo ao meio na modelagem da condução térmica\n",
    "dr=0.005/2\n",
    "# raio médio\n",
    "rm = (rex + rin)/2\n",
    "#área da superfície de contato entre o café e o ar\n",
    "As=math.pi*rin**2\n",
    "#área de contato da parede externa do recipiente\n",
    "Ap=2*math.pi*rex*h\n",
    "#área de contato das paredes internas recipiente (altura total menos a expessura da base)\n",
    "Ar=2*math.pi*rin*(8e-2)\n",
    "#condutividade térmica do ceramica W/m*k\n",
    "kr=0.46\n",
    "#coeficiente de transferência convectiva da superfície d para o ar --> 10W/m2k\n",
    "hs=10\n",
    "#coeficiente de transferência convectiva das paredes do recipiente para o ar --> 10W/m2k\n",
    "hp=1.5"
   ]
  },
  {
   "cell_type": "code",
   "execution_count": 21,
   "metadata": {},
   "outputs": [],
   "source": [
    "#implementar a função que derivada\n",
    "#IMPLEMENTE AQUI SUA FUNÇÃO QUE SERÁ USADA NO ODEINT\n",
    "\n",
    "def derivada(x,t):\n",
    "    # o primeiro parametro da função é a variavel a ser analisada\n",
    "    # ela é um vetor pela definição da odeint\n",
    "    # a primeira posição é Tcafé e na segunga Trecipiente\n",
    "    Tc = x[0] \n",
    "    Tr = x[1] \n",
    "    Qs=(Tc-Ta)/(1/(hs*As))\n",
    "    Qr=(Tc-Tr)/(math.log(rm/rin)/(2*math.pi*kr*h))\n",
    "    Qp=(Tr-Ta)/((math.log(rex/rm)/(2*math.pi*kr*h))+(1/(hp*Ap)))\n",
    "    dTcdt=(-Qs-Qr)/(mc*cc)\n",
    "    dTrdt=(Qr-Qp)/(mr*cr)\n",
    "    dxdt=[dTcdt, dTrdt]\n",
    "    return dxdt\n",
    "\n",
    "####################### agora usar odeint########################"
   ]
  },
  {
   "cell_type": "code",
   "execution_count": 24,
   "metadata": {},
   "outputs": [
    {
     "data": {
      "image/png": "[encoded data removed]",
      "text/plain": [
       "<Figure size 432x288 with 1 Axes>"
      ]
     },
     "metadata": {
      "needs_background": "light"
     },
     "output_type": "display_data"
    }
   ],
   "source": [
    "## agora o odeint\n",
    "#IMPLEMENTE AQUI A PRIMEIRA ITERAÇÃO DO MODELO\n",
    "\n",
    "lisTempo = np.arange(0, 30e3, 1)\n",
    "#condições iniciais: temperatura inicial do café do recipiente = temperatura ambiente\n",
    "Tc = 95 + 275.15\n",
    "ci=[Tc, Ta]\n",
    "#executando o odeint\n",
    "x=odeint(derivada, ci, lisTempo)\n",
    "#conversão de unidades\n",
    "lisToCelsius=[temp-273.15 for temp in x[:,0]]\n",
    "lisTrCelsius=[temp-273.15 for temp in x[:,1]]\n",
    "lisTempoH=[t/3600 for t in lisTempo]\n",
    "#plotando o gráfico como pedido\n",
    "ax=plt.axes()\n",
    "plt.plot(lisTempoH, lisTrCelsius, color='yellow', linewidth=3, label='Tr Calculada')\n",
    "plt.plot(lisTempoH, lisToCelsius, color='blue', linewidth=2, label='Tc Calculada')\n",
    "# ainda não medimos a temperatura do cefé\n",
    "#plt.plot(TempoExp, TemperaturaExp, 'ro', label='To Medida')\n",
    "plt.ylabel(\"Temperatura - graus Celsius\")\n",
    "plt.xlabel(\"Tempo (h)\")\n",
    "plt.legend(loc='best', fancybox=True, framealpha=0)\n",
    "plt.grid(True)\n",
    "plt.show()"
   ]
  },
  {
   "cell_type": "code",
   "execution_count": null,
   "metadata": {},
   "outputs": [],
   "source": []
  }
 ],
 "metadata": {
  "kernelspec": {
   "display_name": "Python 3",
   "language": "python",
   "name": "python3"
  },
  "language_info": {
   "codemirror_mode": {
    "name": "ipython",
    "version": 3
   },
   "file_extension": ".py",
   "mimetype": "text/x-python",
   "name": "python",
   "nbconvert_exporter": "python",
   "pygments_lexer": "ipython3",
   "version": "3.8.5"
  }
 },
 "nbformat": 4,
 "nbformat_minor": 4
}
