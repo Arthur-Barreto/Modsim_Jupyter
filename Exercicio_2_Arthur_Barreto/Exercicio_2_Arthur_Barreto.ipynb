{
 "cells": [
  {
   "cell_type": "markdown",
   "metadata": {},
   "source": [
    "# Insper - Modelagem e Simulação do Mundo Físico\n",
    "\n",
    "## Exercício 2"
   ]
  },
  {
   "cell_type": "markdown",
   "metadata": {},
   "source": [
    "---\n",
    "\n",
    "### O que deve ser entregue?\n",
    "\n",
    "Para submeter este exercício, faça upload no Blackboard de um arquivo `.zip` até as 23:59 de quinta (25/03).\n",
    "\n",
    "Sugerimos que você salve este arquivo (`.ipynb`) em um diretório (uma pasta) vazio, renomei-o com seu nome (ex: \"Exercício 2 - Pedro Silva.ipynb\") e, após ter implementado todos os itens, faça o upload de um arquivo `.zip` contendo:\n",
    "\n",
    "- Arquivo Jupyter Notebook (`.ipynb`);\n",
    "- Arquivo de imagem de seu diagrama, conforme instruções do item 3a (`.png`);\n",
    "\n",
    "Bom trabalho!"
   ]
  },
  {
   "cell_type": "markdown",
   "metadata": {},
   "source": [
    "---\n",
    "### A) Gerando uma lista estática em Python\n",
    "\n",
    "Na célula de código a seguir, crie uma lista denominada `ColunaA` e preencha-a com os dados da tabela abaixo. Em seguida, imprima a lista toda e imprima apenas o $5^{\\circ}$ elemento (elemento de índice $4$) da lista.\n",
    "\n",
    "<table align='left'> \n",
    "<thead> <tr><th>Índice</th><th>Coluna A</th></tr></thead> \n",
    "<tbody>\n",
    "<tr><td>0</td><td>123</td></tr>\n",
    "<tr><td>1</td><td>56</td></tr>\n",
    "<tr><td>2</td><td>34</td></tr>\n",
    "<tr><td>3</td><td>21</td></tr>\n",
    "<tr><td>4</td><td>11</td></tr>\n",
    "<tr><td>5</td><td>345</td></tr>\n",
    "<tr><td>6</td><td>1234</td></tr>\n",
    "<tr><td>7</td><td>9</td></tr>\n",
    "</tbody> \n",
    "</table>"
   ]
  },
  {
   "cell_type": "code",
   "execution_count": 1,
   "metadata": {},
   "outputs": [
    {
     "name": "stdout",
     "output_type": "stream",
     "text": [
      "A lista toda é: [123, 56, 34, 21, 11, 345, 1234, 9]\n",
      "O quinto elemento é: 11\n"
     ]
    }
   ],
   "source": [
    "# Insira aqui seu código do item A\n",
    "ColunaA = [0]*8\n",
    "ColunaA[0] = 123\n",
    "ColunaA[1] = 56 \n",
    "ColunaA[2] = 34\n",
    "ColunaA[3] = 21\n",
    "ColunaA[4] = 11\n",
    "ColunaA[5] = 345\n",
    "ColunaA[6] = 1234\n",
    "ColunaA[7] = 9\n",
    "print(\"A lista toda é: {}\".format(ColunaA))\n",
    "print(\"O quinto elemento é: {}\".format(ColunaA[4]))\n"
   ]
  },
  {
   "cell_type": "markdown",
   "metadata": {},
   "source": [
    "Você já deve ter notado que uma lista em Python é equivalente a uma coluna do Excel, certo?"
   ]
  },
  {
   "cell_type": "markdown",
   "metadata": {},
   "source": [
    "---\n",
    "\n",
    "### B) Gerando uma lista dinâmica em Python\n",
    "\n",
    "Na célula seguinte, implemente um código que preencha uma lista denominada `numerosPares`, de $100$ posições (do índice $0$ até o índice $99$). Essa lista deve conter todos os primeiros cem números pares inteiros a partir do número zero. Porém, ela deve ser gerada usando-se a seguinte equação a diferenças:\n",
    "\n",
    "$N(t+1)=N(t)+2$\n",
    "\n",
    "Você deve usar uma estrutura de loop (como o `while`, por exemplo) para atualizar os valores da lista. Imprima a lista toda para se certificar que está correta. Imprima também o tamanho da lista (use a função `len()` para isso)."
   ]
  },
  {
   "cell_type": "code",
   "execution_count": 2,
   "metadata": {},
   "outputs": [
    {
     "name": "stdout",
     "output_type": "stream",
     "text": [
      "Os 100 primeiros números pares são: [0, 2, 4, 6, 8, 10, 12, 14, 16, 18, 20, 22, 24, 26, 28, 30, 32, 34, 36, 38, 40, 42, 44, 46, 48, 50, 52, 54, 56, 58, 60, 62, 64, 66, 68, 70, 72, 74, 76, 78, 80, 82, 84, 86, 88, 90, 92, 94, 96, 98, 100, 102, 104, 106, 108, 110, 112, 114, 116, 118, 120, 122, 124, 126, 128, 130, 132, 134, 136, 138, 140, 142, 144, 146, 148, 150, 152, 154, 156, 158, 160, 162, 164, 166, 168, 170, 172, 174, 176, 178, 180, 182, 184, 186, 188, 190, 192, 194, 196, 198]\n",
      "O tamanho da lista 'numerosPares' é: 100\n"
     ]
    }
   ],
   "source": [
    "# Insira aqui seu código do item B\n",
    "numerosPares = [0]*100\n",
    "numerosPares[0] = 0\n",
    "\n",
    "i = 0\n",
    "while (i < 99):\n",
    "    numerosPares[i + 1] = numerosPares[i] + 2\n",
    "    i +=1\n",
    "print(\"Os 100 primeiros números pares são: {}\".format(numerosPares))\n",
    "print(\"O tamanho da lista 'numerosPares' é: {}\".format(len(numerosPares)))\n",
    "\n"
   ]
  },
  {
   "cell_type": "markdown",
   "metadata": {},
   "source": [
    "---\n",
    "\n",
    "### C) Populaçao do Reino Unido\n",
    "\n",
    "No Exercício, 1 você já modelou o comportamento da população da Inglaterra, Escócia, País de Gales e Irlanda do Norte no tempo."
   ]
  },
  {
   "cell_type": "markdown",
   "metadata": {},
   "source": [
    "#### i.\n",
    "\n",
    "Insira na célula abaixo uma imagem do **seu** diagrama de estoques e fluxos, que representa o sistema populacional do Reino Unido.\n",
    "\n",
    "Obs: Você deverá mudar o tipo de célula para `Markdown`. Quer uma dica de como fazer? Abra o arquivo da Aula 5, nele seu(sua) professor(a) inseriu algumas imagens no texto. "
   ]
  },
  {
   "cell_type": "markdown",
   "metadata": {},
   "source": [
    "#Insira aqui seu código do item C-i\n",
    "  <img src=\"Reino_Unido.png\" width=\"800\">\n",
    "  \n",
    "  Definindo as constantes de entrada e saída, temos:\n",
    "  \n",
    "\tα – 5% dos escoceses migram para a Inglaterra \n",
    "    \n",
    "\tβ – 1% dos ingleses migram para a Escócia \n",
    "    \n",
    "\tC1 – 2000 pessoas que migram da Inglaterra para a Irlanda do Norte \n",
    "    \n",
    "\tC2 – 1000 pessoas que migram da Irlanda do Norte para o País de Gales \n",
    "    \n",
    "\tC3 – 1000 pessoas que migram do País de Gales para a Escócia \n",
    "\n",
    "  "
   ]
  },
  {
   "cell_type": "markdown",
   "metadata": {
    "collapsed": true
   },
   "source": [
    "#### ii.\n",
    "\n",
    "Na célula seguinte, implemente as equações a diferenças usadas no Exercício 1. Gere um gráfico de população em função do tempo para cada país (não esqueça de títulos, rótulo de eixos, cores etc).\n",
    "\n",
    "Obs: os quatro estoques evoluem conjuntamente no tempo! Note, por exemplo, que a população da Inglaterra em $t+1$ depende da população da Inglaterra em $t$, mas também das populações da Escócia e do País de Gales em $t$! Como implementar, em um único loop, as quatro equações a diferenças?"
   ]
  },
  {
   "cell_type": "code",
   "execution_count": 10,
   "metadata": {},
   "outputs": [
    {
     "data": {
      "image/png": "[encoded data removed]",
      "text/plain": [
       "<Figure size 432x288 with 1 Axes>"
      ]
     },
     "metadata": {
      "needs_background": "light"
     },
     "output_type": "display_data"
    },
    {
     "data": {
      "image/png": "[encoded data removed]",
      "text/plain": [
       "<Figure size 432x288 with 1 Axes>"
      ]
     },
     "metadata": {
      "needs_background": "light"
     },
     "output_type": "display_data"
    },
    {
     "data": {
      "image/png": "[encoded data removed]",
      "text/plain": [
       "<Figure size 432x288 with 1 Axes>"
      ]
     },
     "metadata": {
      "needs_background": "light"
     },
     "output_type": "display_data"
    },
    {
     "data": {
      "image/png": "[encoded data removed]",
      "text/plain": [
       "<Figure size 432x288 with 1 Axes>"
      ]
     },
     "metadata": {
      "needs_background": "light"
     },
     "output_type": "display_data"
    }
   ],
   "source": [
    "# Insira aqui seu código do item C-ii\n",
    "\n",
    "# Pe(t) a população da Escócia no instante t, \n",
    "# Pi(t) a população da Inglaterra no instante t, \n",
    "# Pir(t) a população da Irlanda do Norte no instante t e\n",
    "# Ppg(t) a população do País de Gales no instante t\n",
    "\n",
    "# As equações a diferenças são:\n",
    "# Pe(t+1) = 0,95*Pe(t) + 0,01Pi(t) + 1000\n",
    "# Pi(t+1) = 0,99*Pi(t) + 0,05*Pe(t) - 2000\n",
    "# Pir(t+1) = Pir(t) + 1000\n",
    "# Ppg(t+1) = Ppg(t)\n",
    "\n",
    "# Devemos analizar entre 2008 e 2200, logo 193 anos de dados\n",
    "\n",
    "# As populações iniciais são:\n",
    "# Pe(0) = 5*10^6\n",
    "# Pi(0) = 50*10^6\n",
    "# Pir(0) = 2*10^6\n",
    "# Ppg(0) = 3*10^6\n",
    "\n",
    "#bibliotecas para gerar o grágico e importar um lista automáticamente\n",
    "\n",
    "import matplotlib.pyplot as plt\n",
    "import numpy as np\n",
    "\n",
    "# eixo x é o mesmo para todos, assim temos:\n",
    "# arange.numpy é do tipo [começo,fim)\n",
    "\n",
    "eixo_x = np.arange(2008,2201)\n",
    "\n",
    "# agora devemos criar os vetores que iram receber as imagens de cada país\n",
    "\n",
    "Pe = [0]*193\n",
    "Pi = [0]*193\n",
    "Pir = [0]*193\n",
    "Ppg = [0]*193\n",
    "\n",
    "# na primeria posição de cada vetor preenchemos com a população inicial\n",
    "\n",
    "Pe[0] = 5*(10**6)\n",
    "Pi[0] = 50*(10**6)\n",
    "Pir[0] = 2*(10**6)\n",
    "Ppg[0] = 3*(10**6)\n",
    "\n",
    "# agora vamos preencher o restante dos demais vetores, até a posição 192\n",
    "\n",
    "t = 0\n",
    "\n",
    "# 0 <= t <= 192\n",
    "\n",
    "while (t < 192):\n",
    "    Pe[t+1] = 0.95*Pe[t] + 0.01*Pi[t] + 1000\n",
    "    Pi[t+1] = 0.99*Pi[t] + 0.05*Pe[t] - 2000\n",
    "    Pir[t+1] = Pir[t] + 1000\n",
    "    Ppg[t+1] = Ppg[t]\n",
    "    t += 1\n",
    "    \n",
    "# agora todas as imagens foram calculadas, basta plotar no gráfico\n",
    "# Para Pe teremos a cor azul, atalho 'b'\n",
    "# Para Pi teremos a cor verde, atalho 'g'\n",
    "# Para Pir teremos a cor vermelho, atalho 'r'\n",
    "# Para Ppg teremos a cor preta, atalho 'k'\n",
    "\n",
    "plt.plot(eixo_x, Pe, 'b')\n",
    "plt.xlabel(\"Ano\")\n",
    "plt.ylabel(\"Populção em milhões\")\n",
    "plt.title(\"Escócia\")\n",
    "plt.grid(True)\n",
    "plt.show()\n",
    "\n",
    "\n",
    "plt.plot(eixo_x, Pi, 'g')\n",
    "plt.xlabel(\"Ano\")\n",
    "plt.ylabel(\"Populção (x10^7)\")\n",
    "plt.title(\"Inglaterra\")\n",
    "plt.grid(True)\n",
    "plt.show()\n",
    "\n",
    "\n",
    "plt.plot(eixo_x, Pir, 'r')\n",
    "plt.xlabel(\"Ano\")\n",
    "plt.ylabel(\"Populção em milhões\")\n",
    "plt.title(\"Irlanda do Norte\")\n",
    "plt.grid(True)\n",
    "plt.show()\n",
    "\n",
    "plt.plot(eixo_x, Ppg, 'k')\n",
    "plt.xlabel(\"Ano\")\n",
    "plt.ylabel(\"Populção em milhões\")\n",
    "plt.title(\"Páis de Gales\")\n",
    "plt.grid(True)\n",
    "plt.show()\n",
    "\n",
    "\n",
    "\n",
    "\n",
    "\n",
    "\n",
    "\n",
    "\n",
    "\n",
    "\n"
   ]
  },
  {
   "cell_type": "markdown",
   "metadata": {},
   "source": [
    "#### iii.\n",
    "\n",
    "Gere o gráfico de $\\Delta P$ em função de $P$ para ao menos um dos países do Reino Unido. "
   ]
  },
  {
   "cell_type": "code",
   "execution_count": 11,
   "metadata": {},
   "outputs": [
    {
     "data": {
      "image/png": "[encoded data removed]",
      "text/plain": [
       "<Figure size 432x288 with 1 Axes>"
      ]
     },
     "metadata": {
      "needs_background": "light"
     },
     "output_type": "display_data"
    }
   ],
   "source": [
    "# Insira aqui seu código do item C-iii\n",
    "# O País escolhido foi a Escócia\n",
    "\n",
    "delta_p = [0]*192\n",
    "t=0\n",
    "while (t<192):\n",
    "    delta_p[t] = Pi[t+1] - Pi[t]\n",
    "    t += 1\n",
    "    \n",
    "del Pi[192]\n",
    "\n",
    "plt.plot(Pi, delta_p, 'k')\n",
    "plt.xlabel(\"População\")\n",
    "plt.ylabel(\"Delta População\")\n",
    "plt.title(\"Inglaterra\")\n",
    "plt.grid(True)\n",
    "plt.show()\n",
    "\n",
    "    \n",
    "\n",
    "\n",
    " "
   ]
  },
  {
   "cell_type": "markdown",
   "metadata": {},
   "source": [
    "#### iv.\n",
    "\n",
    "Descreva, na célula abaixo, que é do tipo `Markdown`, o comportamento do gráfico de $\\Delta P$ em função de $P$ que você implementou no item anterior."
   ]
  },
  {
   "cell_type": "markdown",
   "metadata": {},
   "source": [
    "#Insira aqui seu código do item C-iv\n",
    "Com o incremento de x (ano), o y (delta p) diminui, cada vez mais. O gráfico sugere que a população se encontra do período de decrescimento populacional, um decrescimento constante, sugerindo um comportamento do modelo geometrico. Deste modo, pode-se adotar o modelo geometrico para este país com o intuito de representar a população inglesa ao longo dos anos.\n",
    "\n"
   ]
  }
 ],
 "metadata": {
  "kernelspec": {
   "display_name": "Python 3",
   "language": "python",
   "name": "python3"
  },
  "language_info": {
   "codemirror_mode": {
    "name": "ipython",
    "version": 3
   },
   "file_extension": ".py",
   "mimetype": "text/x-python",
   "name": "python",
   "nbconvert_exporter": "python",
   "pygments_lexer": "ipython3",
   "version": "3.8.5"
  }
 },
 "nbformat": 4,
 "nbformat_minor": 2
}
