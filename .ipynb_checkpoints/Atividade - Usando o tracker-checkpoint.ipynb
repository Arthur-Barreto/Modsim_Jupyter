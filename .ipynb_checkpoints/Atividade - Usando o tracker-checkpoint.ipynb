{
 "cells": [
  {
   "cell_type": "markdown",
   "metadata": {},
   "source": [
    "# Insper - Modelagem e Simulação do Mundo Físico\n",
    "\n",
    "## Atividade - Usando o Tracker para validar um modelo mecânico"
   ]
  },
  {
   "cell_type": "markdown",
   "metadata": {},
   "source": [
    "---\n",
    "### Inicialização\n",
    "\n",
    "Nesta atividade, vamos usar o Tracker para obter dados experimentais da trajetória de um pêndulo simples, validando nosso modelo mecânico.\n",
    "\n",
    "Antes de começar, execute o código abaixo para importar todas as bibliotecas necessárias."
   ]
  },
  {
   "cell_type": "code",
   "execution_count": 1,
   "metadata": {},
   "outputs": [],
   "source": [
    "# Importa bibliotecas\n",
    "import numpy as np\n",
    "import matplotlib.pyplot as plt\n",
    "from math import *\n",
    "from scipy.integrate import odeint"
   ]
  },
  {
   "cell_type": "markdown",
   "metadata": {},
   "source": [
    "---\n",
    "### Implementando o pêndulo conforme você viu no vídeo da aula"
   ]
  },
  {
   "cell_type": "markdown",
   "metadata": {},
   "source": [
    "#### Item 1\n",
    "\n",
    "Observe o código a seguir. Nele implementamos o pêndulo que modelamos no vídeo da aula. É um bom momento para esclarecer as suas dúvidas de como conseguimos calcular todas as variáveis que utilizamos nas nossas equações diferenciais."
   ]
  },
  {
   "cell_type": "code",
   "execution_count": 2,
   "metadata": {},
   "outputs": [],
   "source": [
    "# Implementação do nosso pêndulo\n",
    "\n",
    "#parâmetros do nosso modelo\n",
    "g=9.8 #aceleração da gravidade, em m/s2\n",
    "r=1 #comprimento do fio, em m\n",
    "m=1 #massa do pêndulo\n",
    "𝜌=1.2 # densidade do ar, em kg/m3\n",
    "Cd=1.05 #coeficiente de arrasto de um paralelepípedo\n",
    "A=0.08*0.05 #área da seção transversal do pêndulo \n",
    "#estimamos a área, mas se tivéssemos nós feito o experimento, teríamos a informação precisa\n",
    "\n",
    "#Função que implementa o nosso modelo\n",
    "def Modelo(X, t):\n",
    "    x=X[0]\n",
    "    y=X[1]\n",
    "    vx=X[2]\n",
    "    vy=X[3]\n",
    "    \n",
    "    #calculando seno, cosseno de theta e a velocidade\n",
    "    sen𝜃=x/sqrt(x**2+y**2)\n",
    "    cos𝜃=-y/sqrt(x**2+y**2)\n",
    "    v=sqrt(vx**2+vy**2)\n",
    "    #checando se a velocidade não é nula, pois há uma divisão por zero nesse código\n",
    "    if v > 0:\n",
    "        #calculamos drag e cos e sen de alpha\n",
    "        D=1/2*𝜌*Cd*A*v**2\n",
    "        cosα=vx/sqrt(vx**2+vy**2)\n",
    "        senα=vy/sqrt(vx**2+vy**2) \n",
    "    else:\n",
    "        #no início, a velocidade é nula, e por isso o drag também é nulo\n",
    "        D=0  \n",
    "        cosα=0\n",
    "        senα=0\n",
    "    #calculando a força de tração    \n",
    "    T=m*g*cos𝜃+m*v**2/r  \n",
    "    #por fim, nossas equações diferenciais\n",
    "    dydt=vy\n",
    "    dxdt=vx\n",
    "    dvydt=(T*cos𝜃-D*senα-m*g)/m\n",
    "    dvxdt=(-T*sen𝜃-D*cosα)/m         \n",
    "    dXdt=[dxdt, dydt, dvxdt, dvydt]\n",
    "    return dXdt\n"
   ]
  },
  {
   "cell_type": "markdown",
   "metadata": {},
   "source": [
    "#### Item 2\n",
    "\n",
    "Implemente, na célula a seguir, o código que executa o `odeint` para a função **Modelo**. Utilize:\n",
    "\n",
    "- Uma lista de tempo de $0$ a $3 \\thinspace s$, com $\\Delta t=1\\cdot 10^{-3}\\thinspace s$\n",
    "- As condições iniciais: $x_0=-0,6\\thinspace m$, $y_0=-0,8\\thinspace m$, $Vx_0=0\\thinspace m/s$ e $Vy_0=0 \\thinspace m/s$\n",
    "\n",
    "Plote três gráficos:\n",
    "\n",
    "- Gráfico da trajetória do pêndulo\n",
    "- Gráfico da posição x(t)\n",
    "- Gráfico da posição y(t)"
   ]
  },
  {
   "cell_type": "code",
   "execution_count": null,
   "metadata": {},
   "outputs": [],
   "source": [
    "# Implemente seu código do item 2 abaixo\n",
    "# nossa lista temporal\n",
    "\n",
    "l\n",
    "\n",
    "\n"
   ]
  },
  {
   "cell_type": "markdown",
   "metadata": {},
   "source": [
    "#### Item 3\n",
    "\n",
    "Calcule a energia mecânica ao longo de todo o tempo de simulação e valide a **implementação do modelo**. Lembre-se que, ao anularmos a força de arrasto no seu código, a energia mecânica deve se conservar. Plote um gráfico das três energias (cinética, potencial e mecânica) pelo tempo."
   ]
  },
  {
   "cell_type": "code",
   "execution_count": null,
   "metadata": {},
   "outputs": [],
   "source": [
    "# Implemente seu código do item 3 abaixo\n",
    "\n"
   ]
  },
  {
   "cell_type": "markdown",
   "metadata": {},
   "source": [
    "#### Item 4\n",
    "\n",
    "Calcule a força de tração do pêndulo para cada instante da lista de tempo, plotando um gráfico da tração pela posição x(t)."
   ]
  },
  {
   "cell_type": "code",
   "execution_count": null,
   "metadata": {},
   "outputs": [],
   "source": [
    "# Implemente seu código do item 4 abaixo\n",
    "\n"
   ]
  },
  {
   "cell_type": "markdown",
   "metadata": {},
   "source": [
    "#### Item 5\n",
    "\n",
    "Vamos agora validar o nosso modelo usando o Tracker. Para isso, siga as instruções:\n",
    "\n",
    "- Baixe o Tracker em https://physlets.org/tracker/\n",
    "- Siga as instruções da videoaula usando o vídeo \"Pendulo.mov\", que você baixou juntamente com essa atividade.\n",
    "- Gere os pontos de trajetória do pêndulo e exporte para um arquivo \".CSV\", conforme instruções da videoaula.\n",
    "- Use o código fornecido no video para importar o arquivo \".CSV\" e validar o modelo plotando os gráficos x(t), y(t) e y(x) - gráfico da trajetória. Lembre-se que você não precisa rodar o `odeint` novamente. Basta plotar seus resultados nos mesos gráficos em que plotar os dados experimentais.\n"
   ]
  },
  {
   "cell_type": "code",
   "execution_count": null,
   "metadata": {},
   "outputs": [],
   "source": [
    "# Implemente seu código do item 5 abaixo\n",
    "\n"
   ]
  },
  {
   "cell_type": "code",
   "execution_count": null,
   "metadata": {},
   "outputs": [],
   "source": []
  }
 ],
 "metadata": {
  "kernelspec": {
   "display_name": "Python 3",
   "language": "python",
   "name": "python3"
  },
  "language_info": {
   "codemirror_mode": {
    "name": "ipython",
    "version": 3
   },
   "file_extension": ".py",
   "mimetype": "text/x-python",
   "name": "python",
   "nbconvert_exporter": "python",
   "pygments_lexer": "ipython3",
   "version": "3.8.5"
  }
 },
 "nbformat": 4,
 "nbformat_minor": 1
}
