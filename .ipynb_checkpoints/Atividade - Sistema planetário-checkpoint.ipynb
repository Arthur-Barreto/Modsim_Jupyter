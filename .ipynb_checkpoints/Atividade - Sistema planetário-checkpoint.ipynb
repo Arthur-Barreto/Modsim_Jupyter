{
 "cells": [
  {
   "cell_type": "markdown",
   "metadata": {},
   "source": [
    "# Insper - Modelagem e Simulação do Mundo Físico\n",
    "\n",
    "## Atividade - Sistema planetário"
   ]
  },
  {
   "cell_type": "markdown",
   "metadata": {},
   "source": [
    "---\n",
    "### Inicialização\n",
    "\n",
    "Nesta atividade vamos implementar um modelo de um sistema planetário.\n",
    "\n",
    "Antes de começar, execute o código abaixo para importar todas as bibliotecas necessárias."
   ]
  },
  {
   "cell_type": "code",
   "execution_count": 1,
   "metadata": {},
   "outputs": [],
   "source": [
    "# Importa bibliotecas\n",
    "import numpy as np\n",
    "import matplotlib.pyplot as plt\n",
    "from math import *\n",
    "from scipy.integrate import odeint"
   ]
  },
  {
   "cell_type": "markdown",
   "metadata": {},
   "source": [
    "---\n",
    "### Trajetória da Terra"
   ]
  },
  {
   "cell_type": "markdown",
   "metadata": {},
   "source": [
    "#### Item 1\n",
    "\n",
    "A partir do sistema planetário modelado em aula, plote um gráfico da trajetória da Terra ao redor do Sol, isto é, um gráfico de $y_a(t)$ por $x_a(t)$.\n",
    "\n",
    "Você deverá implementar uma função `modelo` (utilize unidades astronômicas) e utilizá-la na função `odeint`, com as seguintes condições iniciais:\n",
    "- $x_a(0) = 1$ UA\n",
    "- $y_x(0) = 0$ UA\n",
    "- $v_{ax}(0) = 0$ UA/ano\n",
    "- $v_{ay}(0) = 2\\pi$ UA/ano\n",
    "\n",
    "Faça um desenho no papel e tente explicar porque as condições iniciais da Terra são essas. Por que a velocidade da Terra é $2\\pi$ UA/ano?\n",
    "\n",
    "Faça sua simulação por $1$ ano com um $\\Delta t$ de $1\\times10^{-3}$ ano."
   ]
  },
  {
   "cell_type": "code",
   "execution_count": 8,
   "metadata": {},
   "outputs": [
    {
     "data": {
      "image/png": "[encoded data removed]",
      "text/plain": [
       "<Figure size 432x288 with 1 Axes>"
      ]
     },
     "metadata": {
      "needs_background": "light"
     },
     "output_type": "display_data"
    }
   ],
   "source": [
    "# Implemente seu código do item 1 abaixo\n",
    "def modelo(x,t):\n",
    "    #escrevemos as variaveis\n",
    "    xa = x[0]\n",
    "    ya = x[1]\n",
    "    vxa = x[2]\n",
    "    vya = x[3]\n",
    "    #escrevemos as derivadas\n",
    "    dxadt = vxa\n",
    "    dyadt = vya\n",
    "    dvxadt = -4*(pi**2)*xa*(xa**2 + ya**2)**(-1.5)\n",
    "    dvyadt = -4*(pi**2)*ya*(xa**2 + ya**2)**(-1.5)\n",
    "    #retornamos as derivadas\n",
    "    dxdt = [dxadt,dyadt,dvxadt,dvyadt]\n",
    "    return dxdt\n",
    "\n",
    "ci = [1,0,0,2*pi]\n",
    "tempo = np.arange(0,1,1e-3)\n",
    "integral = odeint(modelo,ci,tempo)\n",
    "x = integral[:,0]\n",
    "y = integral[:,1]\n",
    "\n",
    "plt.plot(x,y)\n",
    "plt.title(\"Trajetória da Terra\")\n",
    "plt.axis('equal')\n",
    "plt.xlabel('$X \\quad [UA]$')\n",
    "plt.ylabel('$Y \\quad [UA]$')\n",
    "plt.grid(True)\n",
    "plt.show() "
   ]
  },
  {
   "cell_type": "markdown",
   "metadata": {},
   "source": [
    "---\n",
    "### Trajetória da todos os planetas do Sistema Solar"
   ]
  },
  {
   "cell_type": "markdown",
   "metadata": {},
   "source": [
    "#### Item 2a\n",
    "\n",
    "Vamos agora plotar um gráfico da trajetória de todos os planetas (Mercúrio, Vênus, Terra, Marte, Júpiter, Saturno, Urano e Netuno) ao redor do sol em um mesmo gráfico.\n",
    "\n",
    "Sabemos a distância de cada planeta ao sol:\n",
    "- $d_{mer} = 0.387$ UA\n",
    "- $d_{ven} = 0.723$ UA\n",
    "- $d_{ter} = 1$ UA\n",
    "- $d_{mar} = 1.520$ UA\n",
    "- $d_{jup} = 5.200$ UA\n",
    "- $d_{sat} = 9.580$ UA\n",
    "- $d_{ura} = 19.20$ UA\n",
    "- $d_{net} = 30.05$ UA\n",
    "\n",
    "Assim como os períodos de órbita de cada planeta:\n",
    "- $T_{mer} = 0.241$ anos\n",
    "- $T_{ven} = 0.615$ anos\n",
    "- $T_{ter} = 1$ ano\n",
    "- $T_{mar} = 1.880$ anos\n",
    "- $T_{jup} = 11.90$ anos\n",
    "- $T_{sat} = 29.40$ anos\n",
    "- $T_{ura} = 83.70$ anos\n",
    "- $T_{net} = 163.7$ anos\n",
    "\n",
    "Crie uma estrutura de repetição que utilize a função `odeint` 8 vezes, uma para cada planeta (note que apenas as condições iniciais mudam, sendo a função `modelo` a mesma para todos).\n",
    "\n",
    "Faça sua simulação por $163.7$ anos (de modo que seja possível visualizar todos os planetas percorrerem ao menos uma volta ao redor do sol) com um $\\Delta t$ de $1\\times10^{-2}$ ano."
   ]
  },
  {
   "cell_type": "code",
   "execution_count": 17,
   "metadata": {},
   "outputs": [],
   "source": [
    "# Implemente seu código do item 2a abaixo\n",
    "\n",
    "#criar uma lista com as condições iniciais de todos os planetas\n",
    "lisCI = [[0.387,0,0,2*pi*(0.387/0.241)],[0.723,0,0,2*pi*(0.723/0.615)],[1,0,0,2*pi],\n",
    "         [1.52,0,0,2*pi*(1.52/1.88)],[5.2,0,0,2*pi*(5.2/11.9)],[9.58,0,0,2*pi*(9.58/29.4)]\n",
    "         ,[19.2,0,0,2*pi*(19.2/83.7)],[30.05,0,0,2*pi*(30.05/163.7)]]\n",
    "#agora a lista de tempo\n",
    "lisTempo = np.arange(0,164,1e-2)\n",
    "#lista dos planetas\n",
    "lisPlanet = [\"mer\",\"ven\",\"ter\",\"mar\",\"jup\",\"sat\",\"ura\",\"net\"]\n",
    "#agora usar o for e rodar odeint\n",
    "lisX = []\n",
    "lisY = []\n",
    "for i in range(0,8):\n",
    "    info = odeint(modelo,lisCI[i],lisTempo)\n",
    "    lisX.append(info[:,0])\n",
    "    lisY.append(info[:,1])\n",
    "    plt.plot(lisX[i],lisY[i],label = lisPlanet[i])\n",
    "\n",
    "plt.title(\"Trajetória dos planetas\")\n",
    "plt.axis('equal')\n",
    "plt.xlabel('$X \\quad [UA]$')\n",
    "plt.ylabel('$Y \\quad [UA]$')\n",
    "plt.legend()\n",
    "plt.grid(True)\n",
    "plt.show() "
   ]
  },
  {
   "cell_type": "markdown",
   "metadata": {},
   "source": [
    "#### Item 2b\n",
    "\n",
    "Por fim, vamos realizar uma animação dos 4 planetas mais próximos ao sol (Mercúrio, Vênus, Terra e Marte). Como não é esperado que você saiba fazer isso (e nem será cobrado na disciplina), estamos dando um código \"pronto\" a vocês. \n",
    "\n",
    "Mas cuidado, o nome das variáveis e funções utilizadas dificilmente será o mesmo que vocês implementaram nos itens anteriores, por isso será necessário ajustar o código."
   ]
  },
  {
   "cell_type": "code",
   "execution_count": 18,
   "metadata": {},
   "outputs": [],
   "source": [
    "# Implemente seu código do item 2b abaixo\n",
    "\n",
    "get_ipython().magic('matplotlib qt5')\n",
    "import matplotlib.patches as patches\n",
    "from matplotlib import animation\n",
    "%matplotlib qt5\n",
    "\n",
    "# Pega soluções do odeint\n",
    "#x_lista = odeint(modelo,x_0_lista[0],t_lista)\n",
    "x_mer=lisX[0]\n",
    "y_mer=lisY[0]\n",
    "#x_lista = odeint(modelo,x_0_lista[1],t_lista)\n",
    "x_ven=lisX[1]\n",
    "y_ven=lisY[1]\n",
    "#x_lista = odeint(modelo,x_0_lista[2],t_lista)\n",
    "x_ter=lisX[2]\n",
    "y_ter=lisY[2]\n",
    "#x_lista = odeint(modelo,x_0_lista[3],t_lista)\n",
    "x_mar=lisX[3]\n",
    "y_mar=lisY[3]\n",
    "\n",
    "# Determina o tamanho da figura e iguala as escalas x e y\n",
    "fig, ax = plt.subplots(figsize=(12,12), facecolor='gray')\n",
    "plt.axis('equal')\n",
    "\n",
    "# Dimensão dos eixos\n",
    "ax.set_xlim(-3, 3)\n",
    "ax.set_ylim(-3, 3)\n",
    "ax.set_facecolor(\"black\")\n",
    "# Especificando as posições iniciais, tamanho e cor das figuras\n",
    "Sol = patches.Circle((0, 0), 0.12, fc='yellow')\n",
    "Mercurio = patches.Circle((0, 1), 0.02, fc='pink')\n",
    "Venus = patches.Circle((0, 1), 0.03, fc='blue')\n",
    "Terra = patches.Circle((1, 0), 0.04, fc='aqua')\n",
    "Marte = patches.Circle((0, 1), 0.05, fc='red')\n",
    "\n",
    "def init():\n",
    "    # Inclui as figuras que serão desenhadas\n",
    "    ax.add_patch(Sol)\n",
    "    ax.add_patch(Mercurio)\n",
    "    ax.add_patch(Venus)\n",
    "    ax.add_patch(Terra)\n",
    "    ax.add_patch(Marte)\n",
    "    return None\n",
    "\n",
    "def animate(i):\n",
    "    # Animação apenas da Terra\n",
    "    Mercurio.center=(x_mer[i], y_mer[i])\n",
    "    Venus.center=(x_ven[i], y_ven[i])\n",
    "    Terra.center=(x_ter[i], y_ter[i]) \n",
    "    Marte.center=(x_mar[i], y_mar[i]) \n",
    "    return None\n",
    "\n",
    "anim = animation.FuncAnimation(fig, animate, init_func=init, frames=len(y_ter), interval=30, blit=False)\n",
    "plt.show()"
   ]
  }
 ],
 "metadata": {
  "kernelspec": {
   "display_name": "Python 3",
   "language": "python",
   "name": "python3"
  },
  "language_info": {
   "codemirror_mode": {
    "name": "ipython",
    "version": 3
   },
   "file_extension": ".py",
   "mimetype": "text/x-python",
   "name": "python",
   "nbconvert_exporter": "python",
   "pygments_lexer": "ipython3",
   "version": "3.8.5"
  }
 },
 "nbformat": 4,
 "nbformat_minor": 1
}
