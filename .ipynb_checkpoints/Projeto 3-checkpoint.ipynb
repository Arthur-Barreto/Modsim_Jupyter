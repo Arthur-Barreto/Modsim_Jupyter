{
 "cells": [
  {
   "cell_type": "markdown",
   "metadata": {},
   "source": [
    "# Insper - Modelagem e Simulação do Mundo Físico\n",
    "\n",
    "## Projeto 3 - Newton's Candle"
   ]
  },
  {
   "cell_type": "markdown",
   "metadata": {},
   "source": [
    "### Inicialização\n",
    "Está é a etapa inicial do projeto, na qual estarão localizados todos as bibliotecas utilizadas no trabalho."
   ]
  },
  {
   "cell_type": "code",
   "execution_count": 10,
   "metadata": {},
   "outputs": [],
   "source": [
    "import numpy as np\n",
    "import matplotlib.pyplot as plt\n",
    "from math import *\n",
    "from scipy.integrate import odeint"
   ]
  },
  {
   "cell_type": "markdown",
   "metadata": {},
   "source": [
    "### Implementação do Modelo\n",
    "\n",
    "Nesta etapa se encontram-se 6 cláusulas de código, que formaram os parâmetros do Modelo, Modelo, Lista de tempo, condições iniciais, ODEINT e Plotagem do gráfico."
   ]
  },
  {
   "cell_type": "markdown",
   "metadata": {},
   "source": [
    "*Parâmetros do Modelo*\n"
   ]
  },
  {
   "cell_type": "code",
   "execution_count": 11,
   "metadata": {},
   "outputs": [],
   "source": [
    "g = 9.8 #Aceleração gravitacional (m/s2)\n",
    "l = 0.15 #Comprimento do fio (Metros)\n",
    "r = 5e-3 # raio da esfera (Metros)\n",
    "m = 10e-3 #Massa do Pêndulo (Kilos)\n",
    "𝜌 = 1.2 #Densidade do Ar (Kg/m3)\n",
    "Cd = 0.48 #Coeficiente de arrasto de uma esfera\n",
    "A = pi*r**2 #Área da seção transversal"
   ]
  },
  {
   "cell_type": "markdown",
   "metadata": {},
   "source": [
    "*Modelo*"
   ]
  },
  {
   "cell_type": "code",
   "execution_count": 16,
   "metadata": {},
   "outputs": [],
   "source": [
    "def modelo (X,t):\n",
    "    #Ramificando X, temos 5 bolas ...\n",
    "    x1 = X[0]\n",
    "    y1 = X[1]\n",
    "    vx1 = X[2]\n",
    "    vy1 = X[3]\n",
    "    # segunda bola #\n",
    "    x2 = X[4]\n",
    "    y2 = X[5]\n",
    "    vx2 = X[6]\n",
    "    vy2 = X[7]\n",
    "    # terceira bola #\n",
    "    x3 = X[8]\n",
    "    y3 = X[9]\n",
    "    vx3 = X[10]\n",
    "    vy3 = X[11]   \n",
    "    #Definindo as Velocidade\n",
    "    v1 = sqrt(vx1**2+vy1**2)\n",
    "    v2 = sqrt(vx2**2+vy2**2)\n",
    "    v3 = sqrt(vx3**2+vy3**2)\n",
    "    lisV = [v1,v2,v3]\n",
    "    check = 0\n",
    "    bola_mov = []\n",
    "    #Checando se a velocidade não é nula (Se não ocorrerá divisão por zero)\n",
    "    for i in range(0,len(lisV)):\n",
    "        if lisV[i] > 0:\n",
    "            # tem bola em movimento\n",
    "            check += 1\n",
    "            #este vetor retornará qual bola está em movimento\n",
    "            bola_mov.append(i+1)\n",
    "            # este vetor é um vetor unitário, só uma bola está em movimento\n",
    "    if check == 3:\n",
    "        # checamos todas as bolas, se check == 0, então todas as bolas estão paradas   \n",
    "        #Sé a velocidade for maior que zero, será necessário calcular a Resistência do Ar.\n",
    "        # preisamos checar qual bola está em movimento, info guardada no vetor bola_mov\n",
    "        if bola_mov[1] == 1:\n",
    "            # a primeria bola está em movimento\n",
    "            x = x1\n",
    "            y = y1\n",
    "            v = v1\n",
    "            vx = vx1\n",
    "            vy = vy1\n",
    "            # LOGO só a bola 1 tem força de arrasto, o restante é nulo\n",
    "            D1 = 1/2*𝜌*Cd*A*v**2\n",
    "            D2 = 0\n",
    "            D3 = 0\n",
    "        elif bola_mov[1] == 2:\n",
    "            # a segunda está em movimento, não é para entrar aqui, deixar como teste\n",
    "            print(\"a bola do meio está em movimento, deu ruim em algum lugar\")\n",
    "        else:\n",
    "            # a ultima está em movimento\n",
    "            x = x3\n",
    "            y = y3\n",
    "            v = v3\n",
    "            vx = vx3\n",
    "            vy = vy3\n",
    "            # LOGO só a bola 3 tem força de arrasto, o resto é nulo\n",
    "            D1 = 0\n",
    "            D2 = 0\n",
    "            D3 = 1/2*𝜌*Cd*A*v**2 \n",
    "        #Definindo Seno e Cosseno de Theta\n",
    "        sen_teta = x/sqrt(x**2+y**2)\n",
    "        cos_teta = -y/sqrt(x**2+y**2)\n",
    "        # definindo o valor de cos e sen de alpha\n",
    "        cos_alpha = vx/sqrt(vx**2+vy**2)\n",
    "        sen_alpha = vy/sqrt(vx**2+vy**2) \n",
    "    elif check == 0:\n",
    "        #Se a velocidade for Nula, não há porque a resistência do Ar também não ser\n",
    "        D1 = 0\n",
    "        D2 = 0\n",
    "        D3 = 0\n",
    "        cos_alpha = 0\n",
    "        sen_alpha = 0\n",
    "    #Definindo as forças de tração\n",
    "    # de novo precisamos acessar o vetor com a info das bolas em mov, todas que não estão em mov tem o mesmo valor de T\n",
    "    # o restante segue outra formula\n",
    "    if bola_mov[0] == 1:\n",
    "        # a primeira está em mov\n",
    "        T1 = m*g*cos_teta + m*v**2/l\n",
    "        T2 = m*g\n",
    "        T3 = m*g\n",
    "    elif bola_mov[0] == 1:\n",
    "        # não é para ser verdade, então deu ruim\n",
    "        print(\"deu ruim cara\")\n",
    "    else:\n",
    "        # a última está em movimento\n",
    "        T1 = m*g\n",
    "        T2 = m*g\n",
    "        T3 = m*g*cos_teta + m*v**2/l\n",
    "    # agora vamos retornar as equações diferenciais\n",
    "    #primeira bola\n",
    "    dx1dt = vx1\n",
    "    dy1dt = vy1\n",
    "    dvx1dt = (-T1*sen_teta-D1*cos_alpha)/m\n",
    "    dvy1dt = (T1*cos_teta-D1*sen_alpha-mg)/m\n",
    "    # segunda bola\n",
    "    dx2dt = vx2\n",
    "    dy2dt = vy2\n",
    "    dvx2dt = (-T2*sen_teta-D2*cos_alpha)/m\n",
    "    dvy2dt = (T2*cos_teta-D2*sen_alpha-mg)/m\n",
    "    # terceira bola\n",
    "    dx3dt = vx3\n",
    "    dy3dt = vy3\n",
    "    dvx3dt = (-T3*sen_teta-D3*cos_alpha)/m\n",
    "    dvy3dt = (T3*cos_teta-D3*sen_alpha-mg)/m \n",
    "\n",
    "    dxdt = [dx1dt,dy1dt,dvx1dt,dvy1dt,dx2dt,dy2dt,dvx2dt,dvy2dt,dx3dt,dy3dt,dvx3dt,dvy3dt]\n",
    "    return dxdt"
   ]
  },
  {
   "cell_type": "markdown",
   "metadata": {},
   "source": [
    "*Lista de Tempo*"
   ]
  },
  {
   "cell_type": "code",
   "execution_count": 13,
   "metadata": {},
   "outputs": [],
   "source": [
    "#Condições\n",
    "inicio = 0\n",
    "fim = 12\n",
    "delta_t = 1e-3\n",
    "\n",
    "#Criando Lista de Tempo\n",
    "lisTempo = np.arange(inicio,fim,delta_t)"
   ]
  },
  {
   "cell_type": "markdown",
   "metadata": {},
   "source": [
    "*Condições Iniciais*"
   ]
  },
  {
   "cell_type": "code",
   "execution_count": 14,
   "metadata": {},
   "outputs": [],
   "source": [
    "#Condições Iniciais\n",
    "# a bola da esquerda começa o mov, o restante está parado, logo devemos informar apenas x1, y1 o resto é zero\n",
    "#Criando Conjunto de condições iniciais\n",
    "x1 = -0.15\n",
    "y1 = -0.20\n",
    "CI = [x1,y1,0,0,0,0,0,0,0,0,0,0]"
   ]
  },
  {
   "cell_type": "markdown",
   "metadata": {},
   "source": [
    "*ODEINT*"
   ]
  },
  {
   "cell_type": "code",
   "execution_count": 17,
   "metadata": {},
   "outputs": [
    {
     "ename": "IndexError",
     "evalue": "list index out of range",
     "output_type": "error",
     "traceback": [
      "\u001b[1;31m---------------------------------------------------------------------------\u001b[0m",
      "\u001b[1;31mIndexError\u001b[0m                                Traceback (most recent call last)",
      "\u001b[1;32m<ipython-input-17-721d90fd0504>\u001b[0m in \u001b[0;36m<module>\u001b[1;34m\u001b[0m\n\u001b[0;32m      1\u001b[0m \u001b[1;31m#ODEINT\u001b[0m\u001b[1;33m\u001b[0m\u001b[1;33m\u001b[0m\u001b[1;33m\u001b[0m\u001b[0m\n\u001b[1;32m----> 2\u001b[1;33m \u001b[0minfo\u001b[0m \u001b[1;33m=\u001b[0m \u001b[0modeint\u001b[0m\u001b[1;33m(\u001b[0m\u001b[0mmodelo\u001b[0m\u001b[1;33m,\u001b[0m \u001b[0mCI\u001b[0m\u001b[1;33m,\u001b[0m \u001b[0mlisTempo\u001b[0m\u001b[1;33m)\u001b[0m\u001b[1;33m\u001b[0m\u001b[1;33m\u001b[0m\u001b[0m\n\u001b[0m\u001b[0;32m      3\u001b[0m \u001b[1;31m#Ramificando soluções\u001b[0m\u001b[1;33m\u001b[0m\u001b[1;33m\u001b[0m\u001b[1;33m\u001b[0m\u001b[0m\n\u001b[0;32m      4\u001b[0m \u001b[0mx1\u001b[0m \u001b[1;33m=\u001b[0m \u001b[0minfo\u001b[0m\u001b[1;33m[\u001b[0m\u001b[1;33m:\u001b[0m\u001b[1;33m,\u001b[0m\u001b[1;36m0\u001b[0m\u001b[1;33m]\u001b[0m\u001b[1;33m\u001b[0m\u001b[1;33m\u001b[0m\u001b[0m\n\u001b[0;32m      5\u001b[0m \u001b[0my1\u001b[0m \u001b[1;33m=\u001b[0m \u001b[0minfo\u001b[0m\u001b[1;33m[\u001b[0m\u001b[1;33m:\u001b[0m\u001b[1;33m,\u001b[0m\u001b[1;36m1\u001b[0m\u001b[1;33m]\u001b[0m\u001b[1;33m\u001b[0m\u001b[1;33m\u001b[0m\u001b[0m\n",
      "\u001b[1;32m~\\anaconda3\\lib\\site-packages\\scipy\\integrate\\odepack.py\u001b[0m in \u001b[0;36modeint\u001b[1;34m(func, y0, t, args, Dfun, col_deriv, full_output, ml, mu, rtol, atol, tcrit, h0, hmax, hmin, ixpr, mxstep, mxhnil, mxordn, mxords, printmessg, tfirst)\u001b[0m\n\u001b[0;32m    239\u001b[0m     \u001b[0mt\u001b[0m \u001b[1;33m=\u001b[0m \u001b[0mcopy\u001b[0m\u001b[1;33m(\u001b[0m\u001b[0mt\u001b[0m\u001b[1;33m)\u001b[0m\u001b[1;33m\u001b[0m\u001b[1;33m\u001b[0m\u001b[0m\n\u001b[0;32m    240\u001b[0m     \u001b[0my0\u001b[0m \u001b[1;33m=\u001b[0m \u001b[0mcopy\u001b[0m\u001b[1;33m(\u001b[0m\u001b[0my0\u001b[0m\u001b[1;33m)\u001b[0m\u001b[1;33m\u001b[0m\u001b[1;33m\u001b[0m\u001b[0m\n\u001b[1;32m--> 241\u001b[1;33m     output = _odepack.odeint(func, y0, t, args, Dfun, col_deriv, ml, mu,\n\u001b[0m\u001b[0;32m    242\u001b[0m                              \u001b[0mfull_output\u001b[0m\u001b[1;33m,\u001b[0m \u001b[0mrtol\u001b[0m\u001b[1;33m,\u001b[0m \u001b[0matol\u001b[0m\u001b[1;33m,\u001b[0m \u001b[0mtcrit\u001b[0m\u001b[1;33m,\u001b[0m \u001b[0mh0\u001b[0m\u001b[1;33m,\u001b[0m \u001b[0mhmax\u001b[0m\u001b[1;33m,\u001b[0m \u001b[0mhmin\u001b[0m\u001b[1;33m,\u001b[0m\u001b[1;33m\u001b[0m\u001b[1;33m\u001b[0m\u001b[0m\n\u001b[0;32m    243\u001b[0m                              \u001b[0mixpr\u001b[0m\u001b[1;33m,\u001b[0m \u001b[0mmxstep\u001b[0m\u001b[1;33m,\u001b[0m \u001b[0mmxhnil\u001b[0m\u001b[1;33m,\u001b[0m \u001b[0mmxordn\u001b[0m\u001b[1;33m,\u001b[0m \u001b[0mmxords\u001b[0m\u001b[1;33m,\u001b[0m\u001b[1;33m\u001b[0m\u001b[1;33m\u001b[0m\u001b[0m\n",
      "\u001b[1;32m<ipython-input-16-8dd6e4ee94f4>\u001b[0m in \u001b[0;36mmodelo\u001b[1;34m(X, t)\u001b[0m\n\u001b[0;32m     75\u001b[0m     \u001b[1;31m# de novo precisamos acessar o vetor com a info das bolas em mov, todas que não estão em mov tem o mesmo valor de T\u001b[0m\u001b[1;33m\u001b[0m\u001b[1;33m\u001b[0m\u001b[1;33m\u001b[0m\u001b[0m\n\u001b[0;32m     76\u001b[0m     \u001b[1;31m# o restante segue outra formula\u001b[0m\u001b[1;33m\u001b[0m\u001b[1;33m\u001b[0m\u001b[1;33m\u001b[0m\u001b[0m\n\u001b[1;32m---> 77\u001b[1;33m     \u001b[1;32mif\u001b[0m \u001b[0mbola_mov\u001b[0m\u001b[1;33m[\u001b[0m\u001b[1;36m0\u001b[0m\u001b[1;33m]\u001b[0m \u001b[1;33m==\u001b[0m \u001b[1;36m1\u001b[0m\u001b[1;33m:\u001b[0m\u001b[1;33m\u001b[0m\u001b[1;33m\u001b[0m\u001b[0m\n\u001b[0m\u001b[0;32m     78\u001b[0m         \u001b[1;31m# a primeira está em mov\u001b[0m\u001b[1;33m\u001b[0m\u001b[1;33m\u001b[0m\u001b[1;33m\u001b[0m\u001b[0m\n\u001b[0;32m     79\u001b[0m         \u001b[0mT1\u001b[0m \u001b[1;33m=\u001b[0m \u001b[0mm\u001b[0m\u001b[1;33m*\u001b[0m\u001b[0mg\u001b[0m\u001b[1;33m*\u001b[0m\u001b[0mcos_teta\u001b[0m \u001b[1;33m+\u001b[0m \u001b[0mm\u001b[0m\u001b[1;33m*\u001b[0m\u001b[0mv\u001b[0m\u001b[1;33m**\u001b[0m\u001b[1;36m2\u001b[0m\u001b[1;33m/\u001b[0m\u001b[0ml\u001b[0m\u001b[1;33m\u001b[0m\u001b[1;33m\u001b[0m\u001b[0m\n",
      "\u001b[1;31mIndexError\u001b[0m: list index out of range"
     ]
    }
   ],
   "source": [
    "#ODEINT\n",
    "info = odeint(modelo, CI, lisTempo)\n",
    "#Ramificando soluções\n",
    "x1 = info[:,0]\n",
    "y1 = info[:,1]\n",
    "vx1 = info[:,2]\n",
    "vy2 = info[:,3]\n",
    "# segunda esfera\n",
    "x1 = info[:,4]\n",
    "y1 = info[:,5]\n",
    "vx1 = info[:,6]\n",
    "vy2 = info[:,7]\n",
    "# terceira esfera\n",
    "x1 = info[:,8]\n",
    "y1 = info[:,9]\n",
    "vx1 = info[:,10]\n",
    "vy2 = info[:,11]"
   ]
  },
  {
   "cell_type": "markdown",
   "metadata": {},
   "source": [
    "*Plotando Gráficos*"
   ]
  },
  {
   "cell_type": "code",
   "execution_count": null,
   "metadata": {},
   "outputs": [],
   "source": []
  }
 ],
 "metadata": {
  "kernelspec": {
   "display_name": "Python 3",
   "language": "python",
   "name": "python3"
  },
  "language_info": {
   "codemirror_mode": {
    "name": "ipython",
    "version": 3
   },
   "file_extension": ".py",
   "mimetype": "text/x-python",
   "name": "python",
   "nbconvert_exporter": "python",
   "pygments_lexer": "ipython3",
   "version": "3.8.5"
  }
 },
 "nbformat": 4,
 "nbformat_minor": 4
}
