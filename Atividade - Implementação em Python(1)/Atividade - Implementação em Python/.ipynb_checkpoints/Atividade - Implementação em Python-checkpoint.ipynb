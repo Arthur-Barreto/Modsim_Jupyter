{
 "cells": [
  {
   "cell_type": "markdown",
   "metadata": {},
   "source": [
    "# Insper - Modelagem e Simulação do Mundo Físico#\n",
    "\n",
    "## Atividade - Implementação em Python ##"
   ]
  },
  {
   "cell_type": "markdown",
   "metadata": {},
   "source": [
    "**0) Abrindo corretamente esse arquivo**\n",
    "\n",
    "Olá, este é um aquivo Jupyter Notebook e será nosso primeiro contato com programação em Python no curso. A primeira coisa a fazer é verificar se você consegue ver a imagem abaixo (o logotipo da linguagem Python). Se não, isso significa que as figuras não estão no mesmo diretório deste arquivo. Para conseguir vê-las, refaça a operação de descompactar o arquivo que você baixou do *Blackboard* **em um mesmo diretório**. Em caso de dúvidas, chame o(a) professor(a)!\n",
    "\n",
    "\n",
    "<img src=\"Python_logo.png\" width=\"400\">"
   ]
  },
  {
   "cell_type": "markdown",
   "metadata": {},
   "source": [
    "**1) Implementando sua primeira lista em Python**\n",
    "\n",
    "Conforme explicado pelo(a) professor(a), uma lista é uma estrutura de dados que contém uma sequência ordenada de valores. Vamos iniciar declarando uma lista com 10 posições, contendo o número zero (0) em cada uma delas. Observe o código abaixo. Leia os comentários e tente compreender cada linha de código. Em seguida, clique no botão \"Run\", disponível no menu do Jupyter Notebook."
   ]
  },
  {
   "cell_type": "code",
   "execution_count": 77,
   "metadata": {},
   "outputs": [
    {
     "name": "stdout",
     "output_type": "stream",
     "text": [
      "[0, 0, 0, 0, 0, 0, 0, 0, 0, 0]\n"
     ]
    }
   ],
   "source": [
    "# Vamos começar declarando uma lista de 10 posições com número zero (0) em todas elas\n",
    "lista=[0]*10\n",
    "\n",
    "# Em seguida, vamos imprimir a lista\n",
    "print(lista)"
   ]
  },
  {
   "cell_type": "code",
   "execution_count": null,
   "metadata": {},
   "outputs": [],
   "source": [
    "# Vamos agora alterar o 5º elemento dessa lista (se o primeiro elemento da lista se encontra na posição zero, o \n",
    "# quinto elemento se encontra na posição quatro)\n",
    "lista[4]=7\n",
    "\n",
    "# Depois vamos alterar o 10º elemento dessa lista\n",
    "lista[9]=15\n",
    "\n",
    "# E imprimir novamente a lista (veja como que ela ficou)\n",
    "print(lista)"
   ]
  },
  {
   "cell_type": "code",
   "execution_count": null,
   "metadata": {},
   "outputs": [],
   "source": [
    "# Vamos multiplicar o último elemento da lista por 2\n",
    "lista[9]=lista[9]*2\n",
    "\n",
    "# E imprimir uma última vez a lista (veja agora como que ela ficou)\n",
    "print(lista)"
   ]
  },
  {
   "cell_type": "markdown",
   "metadata": {},
   "source": [
    "**2) Implementando sua segunda lista em Python**\n",
    "\n",
    "Bom, você já deve ter pego o espírito de como funciona uma lista. Tente criar uma lista denominada \"Fibonacci\", de 10 posições, preenchendo-a com a sequência de Fibonacci. Lembra qual é a sequência?\n",
    "Vamos iniciar nossa lista com Fibonacci[0]=1 e Fibonacci[1]=1. Consegue preencher os valores Fibonacci[2], Fibonacci[3] e assim por diante? Claro que queremos que você use os valores anteriores da própria lista para calcular os valores das posições subsequentes.\n",
    "\n",
    "Ao final de sua implementação, imprima a lista \"Fibonacci\".\n",
    "\n",
    "Use a célula a seguir para implementar o item 2."
   ]
  },
  {
   "cell_type": "code",
   "execution_count": 5,
   "metadata": {},
   "outputs": [
    {
     "name": "stdout",
     "output_type": "stream",
     "text": [
      "[1, 1, 2, 3, 5, 8, 13, 21, 34, 55]\n"
     ]
    }
   ],
   "source": [
    "# Implemente aqui seu código do item 2\n",
    "Fibonacci = [0]*10\n",
    "Fibonacci[0] = 1\n",
    "Fibonacci[1] = 1\n",
    "Fibonacci[2] = Fibonacci[1] + Fibonacci[0]\n",
    "Fibonacci[3] = Fibonacci[2] + Fibonacci[1]\n",
    "Fibonacci[4] = Fibonacci[3] + Fibonacci[2]\n",
    "Fibonacci[5] = Fibonacci[4] + Fibonacci[3]\n",
    "Fibonacci[6] = Fibonacci[5] + Fibonacci[4]\n",
    "Fibonacci[7] = Fibonacci[6] + Fibonacci[5]\n",
    "Fibonacci[8] = Fibonacci[7] + Fibonacci[6]\n",
    "Fibonacci[9] = Fibonacci[8] + Fibonacci[7]\n",
    "print(Fibonacci)"
   ]
  },
  {
   "cell_type": "markdown",
   "metadata": {},
   "source": [
    "Você deve ter pensado: \"Ainda bem que foram só os 10 primeiros termos da sequência de Fibonacci. Imagine fazer isso para 100 termos!\". Pois é, é o que vamos pedir que você faça na sequência! Calma, você não fará isso na \"mão\".\n",
    "\n",
    "**3) Implementando seu primeiro loop em Python**\n",
    "\n",
    "Linguagens de programação têm estruturas lógicas de repetição, denominadas \"loops\". Em ModSim, vamos usar duas delas:\n",
    "\n",
    "- While\n",
    "\n",
    "- For\n",
    "\n",
    "**a)** Vamos começar pela estrutura While. Observe a célula abaixo e rode seu código clicando em \"Run\"."
   ]
  },
  {
   "cell_type": "code",
   "execution_count": 6,
   "metadata": {},
   "outputs": [
    {
     "name": "stdout",
     "output_type": "stream",
     "text": [
      "Olá, sou a impressão  0\n",
      "Olá, sou a impressão  1\n",
      "Olá, sou a impressão  2\n",
      "Olá, sou a impressão  3\n",
      "Olá, sou a impressão  4\n",
      "Olá, sou a impressão  5\n",
      "Olá, sou a impressão  6\n",
      "Olá, sou a impressão  7\n",
      "Olá, sou a impressão  8\n",
      "Olá, sou a impressão  9\n"
     ]
    }
   ],
   "source": [
    "# Vamos usar uma variável inteira que servirá de índice para nosso loop\n",
    "i=0\n",
    "while (i<10):\n",
    "    print(\"Olá, sou a impressão \", i)\n",
    "    i=i+1    "
   ]
  },
  {
   "cell_type": "markdown",
   "metadata": {},
   "source": [
    "O que você achou? Fantástico, né?\n",
    "\n",
    "Bom, vamos agora gerar nossa lista de Fibonacci para 100 termos!\n",
    "\n",
    "**b)** Gere, na célula abaixo, um código que preencha os 100 primeiros termos da sequência de Fibonacci. Imprima a lista de Fibonacci e perceba como os valores crescem de forma acelerada."
   ]
  },
  {
   "cell_type": "code",
   "execution_count": 11,
   "metadata": {},
   "outputs": [
    {
     "name": "stdout",
     "output_type": "stream",
     "text": [
      "[1, 1, 2, 3, 5, 8, 13, 21, 34, 55, 89, 144, 233, 377, 610, 987, 1597, 2584, 4181, 6765, 10946, 17711, 28657, 46368, 75025, 121393, 196418, 317811, 514229, 832040, 1346269, 2178309, 3524578, 5702887, 9227465, 14930352, 24157817, 39088169, 63245986, 102334155, 165580141, 267914296, 433494437, 701408733, 1134903170, 1836311903, 2971215073, 4807526976, 7778742049, 12586269025, 20365011074, 32951280099, 53316291173, 86267571272, 139583862445, 225851433717, 365435296162, 591286729879, 956722026041, 1548008755920, 2504730781961, 4052739537881, 6557470319842, 10610209857723, 17167680177565, 27777890035288, 44945570212853, 72723460248141, 117669030460994, 190392490709135, 308061521170129, 498454011879264, 806515533049393, 1304969544928657, 2111485077978050, 3416454622906707, 5527939700884757, 8944394323791464, 14472334024676221, 23416728348467685, 37889062373143906, 61305790721611591, 99194853094755497, 160500643816367088, 259695496911122585, 420196140727489673, 679891637638612258, 1100087778366101931, 1779979416004714189, 2880067194370816120, 4660046610375530309, 7540113804746346429, 12200160415121876738, 19740274219868223167, 31940434634990099905, 51680708854858323072, 83621143489848422977, 135301852344706746049, 218922995834555169026, 354224848179261915075]\n"
     ]
    }
   ],
   "source": [
    "# Implemente aqui seu código do item 3b)\n",
    "Fibonacci = [0]*100\n",
    "i = 0\n",
    "Fibonacci[0]=1\n",
    "Fibonacci[1]=1\n",
    "while (i<98):\n",
    "    Fibonacci[i+2]=Fibonacci[i+1]+Fibonacci[i]\n",
    "    i = i + 1\n",
    "print(Fibonacci)\n",
    "\n",
    "\n"
   ]
  },
  {
   "cell_type": "markdown",
   "metadata": {},
   "source": [
    "**c)** Imprima o valor do último termo da sequência de Fibonacci dividido pelo penúltimo, ou seja, Fibonacci[99]/Fibonacci[98]. Lembra da razão áurea? Se tiver um tempinho, pesquise no Google sobre qual o valor da razão áurea."
   ]
  },
  {
   "cell_type": "code",
   "execution_count": 12,
   "metadata": {},
   "outputs": [
    {
     "name": "stdout",
     "output_type": "stream",
     "text": [
      "1.618033988749895\n"
     ]
    }
   ],
   "source": [
    "# Implemente aqui seu código do item 3c)\n",
    "print(354224848179261915075/218922995834555169026)\n",
    "\n",
    "\n"
   ]
  },
  {
   "cell_type": "markdown",
   "metadata": {},
   "source": [
    "**4) Implementando seu primeiro gráfico em Python**\n",
    "\n",
    "Python é uma linguagem de alto nível dedicada à ciência e à engenharia, por isso já temos à nossa disposição módulos gráficos e  matemáticos, assim como algoritmos de vários tipos e funcionalidades. Incrível, não?\n",
    "Um dos módulos que vamos usar sempre é o `PyPlot` da biblioteca `Matplotlib`, que é uma biblioteca para a geração de gráficos.\n",
    "\n",
    "No código abaixo, estamos implementando o gráfico da sequência de Fibonacci. Assim como no gráfico de dispersão que usamos no Excel, precisamos de 2 listas de valores para gerar um gráfico. Já temos a primeira, certo? É a própria lista \"Fibonacci\" que acabamos de gerar. Qual seria essa segunda lista? Uma sequência de valores de 0 a 99, certo?\n",
    "\n",
    "Uma forma de gerar essa sequência automaticamente é através de uma outra biblioteca, a `NumPy`.\n",
    "\n",
    "Observe o código da célula abaixo."
   ]
  },
  {
   "cell_type": "code",
   "execution_count": 18,
   "metadata": {},
   "outputs": [
    {
     "data": {
      "image/png": "[encoded data removed]",
      "text/plain": [
       "<Figure size 432x288 with 1 Axes>"
      ]
     },
     "metadata": {
      "needs_background": "light"
     },
     "output_type": "display_data"
    }
   ],
   "source": [
    "# Para gerar um gráfico, precisamos importar o módulo PyPlot da biblioteca Matplotlib \n",
    "# (veja como fazemos, dando um \"apelido\" a ele: \"plt\")\n",
    "import matplotlib.pyplot as plt\n",
    "\n",
    "# Da mesma forma, para gerar automaticamente uma lista de valores de 0 a 99, precisamos importar a biblioteca NumPy\n",
    "# (Novamente damos um \"apelido\" a ela: \"np\")\n",
    "import numpy as np\n",
    "\n",
    "# Essa biblioteca possui uma função muito útil, a função \"arange\"\n",
    "# (Note que precisamos colocar o apelido da biblioteca seguido de um ponto para utilizar suas funções)\n",
    "lista_x=np.arange(0,100)\n",
    "\n",
    "\n",
    "# (Não esta claro o que a função \"arange\" esta fazendo? Que tal fazer um print de \"lista_x\"?)\n",
    "\n",
    "# Plotamos nessa ordem: a variável que vai no eixo x primeiro, a variável que vai no eixo y depois\n",
    "# Em seguida, podemos dar títulos aos eixos\n",
    "# (Note que precisamos colocar o apelido da biblioteca seguido de um ponto para utilizar suas funções)\n",
    "\n",
    "plt.plot(lista_x, Fibonacci)  \n",
    "plt.xlabel(\"Índice da sequência\")\n",
    "plt.ylabel(\"Valores da sequência\")\n",
    "plt.grid(True)\n",
    "plt.show()\n"
   ]
  },
  {
   "cell_type": "markdown",
   "metadata": {},
   "source": [
    "**5) Implementando um modelo populacional aritmético**\n",
    "\n",
    "Você já deve ter se acostumado a implementar um modelo aritmético no Excel, e aqui não faremos nada que você já não tenha feito no Excel; porém, vamos fazer com um modo de raciocinar diferente.\n",
    "\n",
    "Vamos sem pular etapas. A figura abaixo mostra um modelo aritmético.\n",
    "\n",
    "<img src=\"Figura1.png\" width=\"800\">\n",
    "\n",
    "Bem, você já deve ter compreendido que a equação a diferenças desse modelo é:\n",
    "\n",
    "$P(t+1)=P(t)+N-M$\n",
    "\n",
    "Vamos considerar os seguintes parâmetros para o nosso modelo:\n",
    "\n",
    "$P(0)=15 \\space$ [onças]\n",
    "\n",
    "$N=4 \\space$ [onças/mês]\n",
    "\n",
    "$M=1 \\space$ [onças/mês]\n",
    "\n",
    "**a)** Usando a equação a diferenças do modelo, construa a série temporal da população de onças para 30 meses."
   ]
  },
  {
   "cell_type": "code",
   "execution_count": 20,
   "metadata": {},
   "outputs": [
    {
     "name": "stdout",
     "output_type": "stream",
     "text": [
      "[15, 18, 21, 24, 27, 30, 33, 36, 39, 42, 45, 48, 51, 54, 57, 60, 63, 66, 69, 72, 75, 78, 81, 84, 87, 90, 93, 96, 99, 102]\n"
     ]
    }
   ],
   "source": [
    "# Implemente aqui seu código do item 5a)\n",
    "p = [0]*30\n",
    "p[0] = 15\n",
    "\n",
    "i = 0\n",
    "\n",
    "while (i < 29):\n",
    "    p[i + 1] = p[i] + 3\n",
    "    i = i + 1\n"
   ]
  },
  {
   "cell_type": "markdown",
   "metadata": {},
   "source": [
    "**b)** Em seguida, plote um gráfico do número de onças em função do tempo."
   ]
  },
  {
   "cell_type": "code",
   "execution_count": 22,
   "metadata": {},
   "outputs": [
    {
     "data": {
      "image/png": "[encoded data removed]",
      "text/plain": [
       "<Figure size 432x288 with 1 Axes>"
      ]
     },
     "metadata": {
      "needs_background": "light"
     },
     "output_type": "display_data"
    }
   ],
   "source": [
    "# Implemente aqui seu código do item 5b)\n",
    "# definindo o tamanho do eixo x\n",
    "eixo_x=np.arange(0,30)\n",
    "# vamos plotar os valores de p em um grafico\n",
    "plt.plot(eixo_x, p)\n",
    "plt.xlabel(\"Tempo em meses\")\n",
    "plt.ylabel(\"Onças\")\n",
    "plt.grid(True)\n",
    "plt.show()\n",
    "\n",
    "\n"
   ]
  },
  {
   "cell_type": "markdown",
   "metadata": {},
   "source": [
    "**6) Implementando um modelo populacional geométrico**\n",
    "\n",
    "Considere agora o diagrama de um modelo populacional geométrico, conforme figura abaixo.\n",
    "\n",
    "<img src=\"Figura2.png\" width=\"800\">\n",
    "Você já deve estar bem familiarizado(a) com  a equação a diferenças desse modelo, que é:\n",
    "\n",
    "$P(t+1)=P(t)+p_n \\cdot P(t)-p_m\\cdot P(t)$\n",
    "\n",
    "Vamos considerar os seguintes parâmetros para o nosso modelo:\n",
    "\n",
    "$P(0)=25 \\space$ [onças]\n",
    "\n",
    "$p_n=0,1 \\space$ [onças/onça/mês]\n",
    "\n",
    "$p_m=0,05 \\space$ [onças/onça/mês]\n",
    "\n",
    "**a)** Usando a equação a diferenças do modelo, construa a série temporal da população de onças para 50 meses."
   ]
  },
  {
   "cell_type": "code",
   "execution_count": 25,
   "metadata": {},
   "outputs": [],
   "source": [
    "# Implemente aqui seu código do item 6a)\n",
    "\n",
    "f=[0]*50\n",
    "f[0] = 25\n",
    "\n",
    "i = 0\n",
    "while (i < 49):\n",
    "    f[i+1] = (f[i])*(1+0.05)\n",
    "    i = i + 1\n",
    "\n",
    "\n"
   ]
  },
  {
   "cell_type": "markdown",
   "metadata": {},
   "source": [
    "**b)** Plote um gráfico do número de onças em função do tempo."
   ]
  },
  {
   "cell_type": "code",
   "execution_count": 29,
   "metadata": {},
   "outputs": [
    {
     "data": {
      "image/png": "[encoded data removed]",
      "text/plain": [
       "<Figure size 432x288 with 1 Axes>"
      ]
     },
     "metadata": {
      "needs_background": "light"
     },
     "output_type": "display_data"
    }
   ],
   "source": [
    "# Implemente aqui seu código do item 6b)\n",
    "# definindo o tamanho do eixo x\n",
    "eixo_x=np.arange(0,50)\n",
    "# vamos plotar os valores de f em um grafico\n",
    "plt.plot(eixo_x, f, 'bo')\n",
    "plt.xlabel(\"Tempo em meses\")\n",
    "plt.ylabel(\"Onças\")\n",
    "plt.grid(True)\n",
    "plt.show()\n",
    "\n",
    "\n",
    "\n"
   ]
  },
  {
   "cell_type": "markdown",
   "metadata": {},
   "source": [
    "**7) Implementando um modelo populacional logístico (DESAFIO)**\n",
    "\n",
    "Se você chegou até aqui, talvez queira ir mais longe!\n",
    "Considere agora o diagrama de um modelo logístico, conforme figura abaixo.\n",
    "\n",
    "<img src=\"Figura3.png\" width=\"800\">\n",
    "\n",
    "Trabalhamos esse modelo na última aula, e você deve se lembrar de que sua equação a diferenças é:\n",
    "\n",
    "$P(t+1)=P(t)+\\alpha \\cdot P(t)-\\alpha\\cdot \\frac{P(t)^2}{S}$\n",
    "\n",
    "Vamos considerar os seguintes parâmetros para o modelo logístico:\n",
    "\n",
    "$P(0)=5 \\space$ [onças]\n",
    "\n",
    "$\\alpha=0,2 \\space$ [onças/onça/mês]\n",
    "\n",
    "$S=200 \\space$ [onças]\n",
    "\n",
    "**a)** Usando a equação a diferenças do modelo, construa a série temporal de onças para 40 meses."
   ]
  },
  {
   "cell_type": "code",
   "execution_count": 80,
   "metadata": {},
   "outputs": [],
   "source": [
    "# Implemente aqui seu código do item 7a)\n",
    "l = [0]*40\n",
    "l[0] = 5\n",
    "\n",
    "alpha = 0.2\n",
    "s = 200\n",
    "\n",
    "i = 0\n",
    "\n",
    "while (i < 39):\n",
    "    l[i + 1] = l[i]*(1 + alpha) - (alpha/s)*((l[i])**2)\n",
    "    i = i + 1\n",
    "\n",
    "\n"
   ]
  },
  {
   "cell_type": "markdown",
   "metadata": {},
   "source": [
    "**b)** Plote um gráfico do número de onças em função do tempo."
   ]
  },
  {
   "cell_type": "code",
   "execution_count": 81,
   "metadata": {},
   "outputs": [
    {
     "data": {
      "image/png": "[encoded data removed]",
      "text/plain": [
       "<Figure size 432x288 with 1 Axes>"
      ]
     },
     "metadata": {
      "needs_background": "light"
     },
     "output_type": "display_data"
    }
   ],
   "source": [
    "# Implemente aqui seu código do item 7b)\n",
    "eixo_x=np.arange(0,40)\n",
    "# vamos plotar os valores de f em um grafico\n",
    "plt.plot(eixo_x, l, 'bo')\n",
    "plt.xlabel(\"Tempo em meses\")\n",
    "plt.ylabel(\"Onças\")\n",
    "plt.grid(True)\n",
    "plt.show()\n",
    "\n"
   ]
  },
  {
   "cell_type": "markdown",
   "metadata": {},
   "source": [
    "**c)** Plote o gráfico de $\\Delta P \\times P(t)$ **(DESAFIO MEGA BLASTER)**"
   ]
  },
  {
   "cell_type": "code",
   "execution_count": 84,
   "metadata": {},
   "outputs": [
    {
     "name": "stdout",
     "output_type": "stream",
     "text": [
      "[0.9749999999999996, 1.1592993749999998, 1.375961647427875, 1.6296276618157197, 1.9251603943198674, 2.2674444064445467, 2.6610783275038017, 3.109932879555366, 3.616550037509466, 4.181369949541217, 4.801795436699081, 5.471143417219814, 6.177590675454901, 6.903294999586187, 7.623949270233403, 8.309079682213884, 8.923390909928926, 9.429347645400483, 9.790937802388797, 9.978209351380244, 9.971802159677736, 9.766461514279257, 9.372576277593993, 8.815194495942677, 8.13063115508291, 7.361448829973909, 6.550989327662393, 5.738617217712175, 4.956460031780324, 4.227898920156775, 3.5676000895278435, 2.982613254810275, 2.474011179509006, 2.0386373505452866, 1.67068048633584, 1.3629396507829767, 1.1077503104224036, 0.8976043140930301, 0.7255240914703336]\n"
     ]
    },
    {
     "data": {
      "image/png": "[encoded data removed]",
      "text/plain": [
       "<Figure size 432x288 with 1 Axes>"
      ]
     },
     "metadata": {
      "needs_background": "light"
     },
     "output_type": "display_data"
    }
   ],
   "source": [
    "# Implemente aqui seu código do item 7c)\n",
    "\n",
    "# vamos criar um array para delta p, com 39 posições\n",
    "delta_p = [0]*39\n",
    "#agora vamos preencher esse array\n",
    "i = 0\n",
    "while (i < 39):\n",
    "    delta_p[i] = l[i+1] - l[i]\n",
    "    i = i + 1\n",
    "\n",
    "\n",
    "print(delta_p)\n",
    "# o vetor l tem 40 posições, mas só temos 39 diferenças, devemos escluir essa informação a mais\n",
    "del l[39]\n",
    "    \n",
    "# no while tb preenchemos novamente o vetor com os valores do número de onças\n",
    "# agora só repetir as estruturas de printas o gráfico\n",
    "\n",
    "\n",
    "# vamos plotar os valores de l por delta_p em um grafico\n",
    "plt.plot(l, delta_p, 'bo')\n",
    "plt.xlabel(\"população\")\n",
    "plt.ylabel(\"variação da população\")\n",
    "plt.grid(True)\n",
    "plt.show()\n",
    "\n",
    "\n",
    "\n"
   ]
  },
  {
   "cell_type": "code",
   "execution_count": null,
   "metadata": {},
   "outputs": [],
   "source": []
  }
 ],
 "metadata": {
  "kernelspec": {
   "display_name": "Python 3",
   "language": "python",
   "name": "python3"
  },
  "language_info": {
   "codemirror_mode": {
    "name": "ipython",
    "version": 3
   },
   "file_extension": ".py",
   "mimetype": "text/x-python",
   "name": "python",
   "nbconvert_exporter": "python",
   "pygments_lexer": "ipython3",
   "version": "3.8.5"
  }
 },
 "nbformat": 4,
 "nbformat_minor": 2
}
